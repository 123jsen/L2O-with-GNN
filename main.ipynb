{
 "cells": [
  {
   "cell_type": "markdown",
   "metadata": {},
   "source": [
    "## Main"
   ]
  },
  {
   "cell_type": "markdown",
   "metadata": {},
   "source": [
    "Compares training methods, generates graph"
   ]
  },
  {
   "cell_type": "code",
   "execution_count": 1,
   "metadata": {},
   "outputs": [
    {
     "name": "stdout",
     "output_type": "stream",
     "text": [
      "using cuda\n"
     ]
    },
    {
     "name": "stderr",
     "output_type": "stream",
     "text": [
      "c:\\Python310\\lib\\site-packages\\tqdm\\auto.py:22: TqdmWarning: IProgress not found. Please update jupyter and ipywidgets. See https://ipywidgets.readthedocs.io/en/stable/user_install.html\n",
      "  from .autonotebook import tqdm as notebook_tqdm\n"
     ]
    }
   ],
   "source": [
    "import torch\n",
    "from torch import nn\n",
    "from torch.utils.data import DataLoader\n",
    "from torchvision import datasets\n",
    "from torchvision.transforms import ToTensor\n",
    "\n",
    "from models import simple_NN\n",
    "\n",
    "device = \"cuda\" if torch.cuda.is_available() else \"cpu\"\n",
    "print(f\"using {device}\")"
   ]
  },
  {
   "cell_type": "code",
   "execution_count": 2,
   "metadata": {},
   "outputs": [],
   "source": [
    "# Download training data from open datasets.\n",
    "training_data = datasets.MNIST(\n",
    "    root=\"data\",\n",
    "    train=True,\n",
    "    download=True,\n",
    "    transform=ToTensor(),\n",
    ")\n",
    "\n",
    "# Download test data from open datasets.\n",
    "test_data = datasets.MNIST(\n",
    "    root=\"data\",\n",
    "    train=False,\n",
    "    download=True,\n",
    "    transform=ToTensor(),\n",
    ")"
   ]
  },
  {
   "cell_type": "code",
   "execution_count": 3,
   "metadata": {},
   "outputs": [],
   "source": [
    "batch_size = 64\n",
    "\n",
    "# Create data loaders.\n",
    "train_dataloader = DataLoader(training_data, batch_size=batch_size)\n",
    "test_dataloader = DataLoader(test_data, batch_size=batch_size)"
   ]
  },
  {
   "cell_type": "code",
   "execution_count": 4,
   "metadata": {},
   "outputs": [],
   "source": [
    "model = simple_NN().to(device)"
   ]
  },
  {
   "cell_type": "code",
   "execution_count": 5,
   "metadata": {},
   "outputs": [],
   "source": [
    "loss_fn = nn.CrossEntropyLoss()\n",
    "optimizer = torch.optim.Adam(model.parameters(), lr=1e-3)"
   ]
  },
  {
   "cell_type": "code",
   "execution_count": 6,
   "metadata": {},
   "outputs": [],
   "source": [
    "def train(dataloader, model, loss_fn, optimizer):\n",
    "    size = len(dataloader.dataset)\n",
    "    model.train()\n",
    "    for batch, (X, y) in enumerate(dataloader):\n",
    "        X, y = X.to(device), y.to(device)\n",
    "\n",
    "        # Compute prediction error\n",
    "        pred = model(X)\n",
    "        loss = loss_fn(pred, y)\n",
    "\n",
    "        # Backpropagation\n",
    "        optimizer.zero_grad()\n",
    "        loss.backward()\n",
    "        optimizer.step()\n",
    "\n",
    "        if batch % 100 == 0:\n",
    "            loss, current = loss.item(), batch * len(X)\n",
    "            print(f\"loss: {loss:>7f}  [{current:>5d}/{size:>5d}]\")"
   ]
  },
  {
   "cell_type": "code",
   "execution_count": 7,
   "metadata": {},
   "outputs": [],
   "source": [
    "def test(dataloader, model, loss_fn):\n",
    "    size = len(dataloader.dataset)\n",
    "    num_batches = len(dataloader)\n",
    "    model.eval()\n",
    "    test_loss, correct = 0, 0\n",
    "    with torch.no_grad():\n",
    "        for X, y in dataloader:\n",
    "            X, y = X.to(device), y.to(device)\n",
    "            pred = model(X)\n",
    "            test_loss += loss_fn(pred, y).item()\n",
    "            correct += (pred.argmax(1) == y).type(torch.float).sum().item()\n",
    "    test_loss /= num_batches\n",
    "    correct /= size\n",
    "    print(f\"Test Error: \\n Accuracy: {(100*correct):>0.1f}%, Avg loss: {test_loss:>8f} \\n\")"
   ]
  },
  {
   "cell_type": "code",
   "execution_count": 8,
   "metadata": {},
   "outputs": [
    {
     "name": "stdout",
     "output_type": "stream",
     "text": [
      "Epoch 1\n",
      "-------------------------------\n",
      "loss: 2.312810  [    0/60000]\n",
      "loss: 0.917681  [ 6400/60000]\n",
      "loss: 0.551639  [12800/60000]\n",
      "loss: 0.713126  [19200/60000]\n",
      "loss: 0.586286  [25600/60000]\n",
      "loss: 0.532717  [32000/60000]\n",
      "loss: 0.487559  [38400/60000]\n",
      "loss: 0.706329  [44800/60000]\n",
      "loss: 0.622490  [51200/60000]\n",
      "loss: 0.454198  [57600/60000]\n",
      "Test Error: \n",
      " Accuracy: 82.5%, Avg loss: 0.495563 \n",
      "\n",
      "Epoch 2\n",
      "-------------------------------\n",
      "loss: 0.365376  [    0/60000]\n",
      "loss: 0.485637  [ 6400/60000]\n",
      "loss: 0.355428  [12800/60000]\n",
      "loss: 0.513580  [19200/60000]\n",
      "loss: 0.460871  [25600/60000]\n",
      "loss: 0.419754  [32000/60000]\n",
      "loss: 0.406535  [38400/60000]\n",
      "loss: 0.651554  [44800/60000]\n",
      "loss: 0.578970  [51200/60000]\n",
      "loss: 0.396615  [57600/60000]\n",
      "Test Error: \n",
      " Accuracy: 84.1%, Avg loss: 0.453693 \n",
      "\n",
      "Epoch 3\n",
      "-------------------------------\n",
      "loss: 0.298209  [    0/60000]\n",
      "loss: 0.407430  [ 6400/60000]\n",
      "loss: 0.311823  [12800/60000]\n",
      "loss: 0.470940  [19200/60000]\n",
      "loss: 0.416911  [25600/60000]\n",
      "loss: 0.402040  [32000/60000]\n",
      "loss: 0.384791  [38400/60000]\n",
      "loss: 0.627988  [44800/60000]\n",
      "loss: 0.540267  [51200/60000]\n",
      "loss: 0.374917  [57600/60000]\n",
      "Test Error: \n",
      " Accuracy: 84.7%, Avg loss: 0.436096 \n",
      "\n",
      "Epoch 4\n",
      "-------------------------------\n",
      "loss: 0.271108  [    0/60000]\n",
      "loss: 0.370718  [ 6400/60000]\n",
      "loss: 0.291844  [12800/60000]\n",
      "loss: 0.443486  [19200/60000]\n",
      "loss: 0.390866  [25600/60000]\n",
      "loss: 0.388730  [32000/60000]\n",
      "loss: 0.373552  [38400/60000]\n",
      "loss: 0.601749  [44800/60000]\n",
      "loss: 0.511816  [51200/60000]\n",
      "loss: 0.367890  [57600/60000]\n",
      "Test Error: \n",
      " Accuracy: 85.1%, Avg loss: 0.424329 \n",
      "\n",
      "Epoch 5\n",
      "-------------------------------\n",
      "loss: 0.259385  [    0/60000]\n",
      "loss: 0.347019  [ 6400/60000]\n",
      "loss: 0.278469  [12800/60000]\n",
      "loss: 0.425478  [19200/60000]\n",
      "loss: 0.372953  [25600/60000]\n",
      "loss: 0.373164  [32000/60000]\n",
      "loss: 0.360046  [38400/60000]\n",
      "loss: 0.583923  [44800/60000]\n",
      "loss: 0.486346  [51200/60000]\n",
      "loss: 0.362305  [57600/60000]\n",
      "Test Error: \n",
      " Accuracy: 85.4%, Avg loss: 0.415293 \n",
      "\n",
      "Done!\n"
     ]
    }
   ],
   "source": [
    "epochs = 5\n",
    "for t in range(epochs):\n",
    "    print(f\"Epoch {t+1}\\n-------------------------------\")\n",
    "    train(train_dataloader, model, loss_fn, optimizer)\n",
    "    test(test_dataloader, model, loss_fn)\n",
    "print(\"Done!\")"
   ]
  },
  {
   "cell_type": "code",
   "execution_count": null,
   "metadata": {},
   "outputs": [],
   "source": []
  }
 ],
 "metadata": {
  "kernelspec": {
   "display_name": "Python 3.10.4 64-bit",
   "language": "python",
   "name": "python3"
  },
  "language_info": {
   "codemirror_mode": {
    "name": "ipython",
    "version": 3
   },
   "file_extension": ".py",
   "mimetype": "text/x-python",
   "name": "python",
   "nbconvert_exporter": "python",
   "pygments_lexer": "ipython3",
   "version": "3.10.4"
  },
  "orig_nbformat": 4,
  "vscode": {
   "interpreter": {
    "hash": "369f2c481f4da34e4445cda3fffd2e751bd1c4d706f27375911949ba6bb62e1c"
   }
  }
 },
 "nbformat": 4,
 "nbformat_minor": 2
}
