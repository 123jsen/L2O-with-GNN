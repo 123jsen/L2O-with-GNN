{
 "cells": [
  {
   "cell_type": "code",
   "execution_count": 1,
   "metadata": {},
   "outputs": [
    {
     "name": "stdout",
     "output_type": "stream",
     "text": [
      "using cuda\n"
     ]
    }
   ],
   "source": [
    "import torch\n",
    "from torch import nn\n",
    "from torch.utils.data import DataLoader\n",
    "from torchvision import datasets\n",
    "from torchvision.transforms import ToTensor\n",
    "\n",
    "from models.mnist_nets import deep_net\n",
    "\n",
    "device = \"cuda\" if torch.cuda.is_available() else \"cpu\"\n",
    "print(f\"using {device}\")"
   ]
  },
  {
   "cell_type": "code",
   "execution_count": 2,
   "metadata": {},
   "outputs": [],
   "source": [
    "# Download training data from open datasets.\n",
    "training_data = datasets.FashionMNIST(\n",
    "    root=\"data\",\n",
    "    train=True,\n",
    "    download=True,\n",
    "    transform=ToTensor(),\n",
    ")\n",
    "\n",
    "# Download test data from open datasets.\n",
    "test_data = datasets.FashionMNIST(\n",
    "    root=\"data\",\n",
    "    train=False,\n",
    "    download=True,\n",
    "    transform=ToTensor(),\n",
    ")"
   ]
  },
  {
   "cell_type": "code",
   "execution_count": 3,
   "metadata": {},
   "outputs": [],
   "source": [
    "# Constants\n",
    "\n",
    "history_step = 15\n",
    "output_step = 100"
   ]
  },
  {
   "cell_type": "code",
   "execution_count": 4,
   "metadata": {},
   "outputs": [],
   "source": [
    "# Hyperparameters\n",
    "\n",
    "batch_size = 128\n",
    "epochs = 5"
   ]
  },
  {
   "cell_type": "code",
   "execution_count": 5,
   "metadata": {},
   "outputs": [
    {
     "name": "stdout",
     "output_type": "stream",
     "text": [
      "Number of batches: 469\n"
     ]
    }
   ],
   "source": [
    "# Create data loaders.\n",
    "train_dataloader = DataLoader(training_data, batch_size=batch_size)\n",
    "test_dataloader = DataLoader(test_data, batch_size=batch_size)\n",
    "\n",
    "print(f\"Number of batches: {len(train_dataloader)}\")"
   ]
  },
  {
   "cell_type": "code",
   "execution_count": 6,
   "metadata": {},
   "outputs": [],
   "source": [
    "optimizers = [\n",
    "    torch.optim.SGD,\n",
    "    torch.optim.Adam,\n",
    "    torch.optim.RMSprop\n",
    "]\n",
    "\n",
    "lrs = [0.01, 0.001, 0.01]\n",
    "\n",
    "num_opts = len(optimizers)"
   ]
  },
  {
   "cell_type": "code",
   "execution_count": 7,
   "metadata": {},
   "outputs": [],
   "source": [
    "from copy import deepcopy\n",
    "model = deep_net(28*28, 10).to(device)\n",
    "models = [deepcopy(model) for _ in range(num_opts)]\n",
    "model_for_l2o = deepcopy(model)\n",
    "model_for_gnn = deepcopy(model)"
   ]
  },
  {
   "cell_type": "code",
   "execution_count": 8,
   "metadata": {},
   "outputs": [],
   "source": [
    "loss_fn = nn.CrossEntropyLoss()"
   ]
  },
  {
   "cell_type": "code",
   "execution_count": 9,
   "metadata": {},
   "outputs": [],
   "source": [
    "def train(dataloader, model, loss_fn, optimizer):\n",
    "    size = len(dataloader.dataset)\n",
    "    history = []\n",
    "    model.train()\n",
    "    for batch, (X, y) in enumerate(dataloader):\n",
    "        X, y = X.to(device), y.to(device)\n",
    "\n",
    "        # Compute prediction error\n",
    "        pred = model(X)\n",
    "        loss = loss_fn(pred, y)\n",
    "\n",
    "        # Backpropagation\n",
    "        optimizer.zero_grad()\n",
    "        loss.backward()\n",
    "        optimizer.step()\n",
    "\n",
    "        loss = loss.item()\n",
    "\n",
    "        if batch % output_step == 0:\n",
    "            current = batch * len(X)\n",
    "            print(f\"loss: {loss:>7f}  [{current:>5d}/{size:>5d}]\")\n",
    "            \n",
    "\n",
    "        if batch % history_step == 0:\n",
    "            history.append(loss)\n",
    "            \n",
    "    return history"
   ]
  },
  {
   "cell_type": "code",
   "execution_count": 10,
   "metadata": {},
   "outputs": [
    {
     "name": "stdout",
     "output_type": "stream",
     "text": [
      "Using SGD\n",
      "Epoch 1: \n",
      "loss: 2.311872  [    0/60000]\n",
      "loss: 2.199598  [12800/60000]\n",
      "loss: 1.969465  [25600/60000]\n",
      "loss: 1.603737  [38400/60000]\n",
      "loss: 1.351630  [51200/60000]\n",
      "Epoch 2: \n",
      "loss: 1.200153  [    0/60000]\n",
      "loss: 1.012552  [12800/60000]\n",
      "loss: 0.944121  [25600/60000]\n",
      "loss: 0.881503  [38400/60000]\n",
      "loss: 0.871036  [51200/60000]\n",
      "Epoch 3: \n",
      "loss: 0.795856  [    0/60000]\n",
      "loss: 0.703463  [12800/60000]\n",
      "loss: 0.731905  [25600/60000]\n",
      "loss: 0.724740  [38400/60000]\n",
      "loss: 0.747432  [51200/60000]\n",
      "Epoch 4: \n",
      "loss: 0.658446  [    0/60000]\n",
      "loss: 0.593638  [12800/60000]\n",
      "loss: 0.641799  [25600/60000]\n",
      "loss: 0.648551  [38400/60000]\n",
      "loss: 0.693341  [51200/60000]\n",
      "Epoch 5: \n",
      "loss: 0.575444  [    0/60000]\n",
      "loss: 0.529051  [12800/60000]\n",
      "loss: 0.585773  [25600/60000]\n",
      "loss: 0.592317  [38400/60000]\n",
      "loss: 0.654391  [51200/60000]\n",
      "Done!\n",
      "\n",
      "Using Adam\n",
      "Epoch 1: \n",
      "loss: 2.311872  [    0/60000]\n",
      "loss: 0.570264  [12800/60000]\n",
      "loss: 0.502003  [25600/60000]\n",
      "loss: 0.467036  [38400/60000]\n",
      "loss: 0.533552  [51200/60000]\n",
      "Epoch 2: \n",
      "loss: 0.317116  [    0/60000]\n",
      "loss: 0.372633  [12800/60000]\n",
      "loss: 0.379830  [25600/60000]\n",
      "loss: 0.370844  [38400/60000]\n",
      "loss: 0.452031  [51200/60000]\n",
      "Epoch 3: \n",
      "loss: 0.249692  [    0/60000]\n",
      "loss: 0.325939  [12800/60000]\n",
      "loss: 0.342543  [25600/60000]\n",
      "loss: 0.342258  [38400/60000]\n",
      "loss: 0.422976  [51200/60000]\n",
      "Epoch 4: \n",
      "loss: 0.219785  [    0/60000]\n",
      "loss: 0.303224  [12800/60000]\n",
      "loss: 0.316276  [25600/60000]\n",
      "loss: 0.325079  [38400/60000]\n",
      "loss: 0.398682  [51200/60000]\n",
      "Epoch 5: \n",
      "loss: 0.193378  [    0/60000]\n",
      "loss: 0.282380  [12800/60000]\n",
      "loss: 0.310356  [25600/60000]\n",
      "loss: 0.304061  [38400/60000]\n",
      "loss: 0.369527  [51200/60000]\n",
      "Done!\n",
      "\n",
      "Using RMSprop\n",
      "Epoch 1: \n",
      "loss: 2.311872  [    0/60000]\n",
      "loss: 0.558340  [12800/60000]\n",
      "loss: 0.622803  [25600/60000]\n",
      "loss: 0.461700  [38400/60000]\n",
      "loss: 0.645164  [51200/60000]\n",
      "Epoch 2: \n",
      "loss: 0.386541  [    0/60000]\n",
      "loss: 0.427014  [12800/60000]\n",
      "loss: 0.417783  [25600/60000]\n",
      "loss: 0.451001  [38400/60000]\n",
      "loss: 0.537382  [51200/60000]\n",
      "Epoch 3: \n",
      "loss: 0.366692  [    0/60000]\n",
      "loss: 0.459360  [12800/60000]\n",
      "loss: 0.388619  [25600/60000]\n",
      "loss: 0.443536  [38400/60000]\n",
      "loss: 0.592727  [51200/60000]\n",
      "Epoch 4: \n",
      "loss: 0.287828  [    0/60000]\n",
      "loss: 0.500778  [12800/60000]\n",
      "loss: 0.421278  [25600/60000]\n",
      "loss: 0.431996  [38400/60000]\n",
      "loss: 0.576201  [51200/60000]\n",
      "Epoch 5: \n",
      "loss: 0.313943  [    0/60000]\n",
      "loss: 0.344342  [12800/60000]\n",
      "loss: 0.398229  [25600/60000]\n",
      "loss: 0.435501  [38400/60000]\n",
      "loss: 0.532760  [51200/60000]\n",
      "Done!\n",
      "\n"
     ]
    }
   ],
   "source": [
    "his = [[] for _ in range(num_opts)]\n",
    "for i in range(num_opts):\n",
    "    print(f\"Using {optimizers[i].__name__}\")\n",
    "    for t in range(epochs):\n",
    "        print(f\"Epoch {t+1}: \")\n",
    "        \n",
    "        loss = train(\n",
    "            train_dataloader,\n",
    "            models[i],\n",
    "            loss_fn,\n",
    "            optimizers[i](models[i].parameters(), lr=lrs[i]))\n",
    "\n",
    "        his[i].append(loss)\n",
    "\n",
    "    print(\"Done!\\n\")"
   ]
  },
  {
   "cell_type": "code",
   "execution_count": 11,
   "metadata": {},
   "outputs": [],
   "source": [
    "for i in range(num_opts):\n",
    "    his[i] = torch.tensor(his[i]).reshape(-1)"
   ]
  },
  {
   "cell_type": "markdown",
   "metadata": {},
   "source": [
    "## Using L2O Optimizer"
   ]
  },
  {
   "cell_type": "code",
   "execution_count": 12,
   "metadata": {},
   "outputs": [],
   "source": [
    "from models.optim_nets import lstm_l2o_optimizer   \n",
    "from trainUtil import init_hidden, zero_gradients"
   ]
  },
  {
   "cell_type": "code",
   "execution_count": 13,
   "metadata": {},
   "outputs": [
    {
     "data": {
      "text/plain": [
       "lstm_l2o_optimizer(\n",
       "  (LSTM): LSTM(1, 24, num_layers=2)\n",
       "  (linear): Linear(in_features=24, out_features=1, bias=True)\n",
       ")"
      ]
     },
     "execution_count": 13,
     "metadata": {},
     "output_type": "execute_result"
    }
   ],
   "source": [
    "l2o_optimizer = lstm_l2o_optimizer().to(device)\n",
    "l2o_optimizer.load_state_dict(torch.load(\"trained_model/l2o_optimizer.pth\"))\n",
    "l2o_optimizer.eval()"
   ]
  },
  {
   "cell_type": "code",
   "execution_count": 14,
   "metadata": {},
   "outputs": [],
   "source": [
    "def update_weights(model, update_fn, hidden):\n",
    "    with torch.no_grad():\n",
    "        for m_key in model._modules:\n",
    "            m1 = model._modules[m_key]\n",
    "            h_module = hidden[m_key]\n",
    "            for p_key in m1._parameters:\n",
    "                \n",
    "                grad_in = m1._parameters[p_key].grad.reshape(1, -1, 1)\n",
    "\n",
    "                update, h_module[p_key] = update_fn(grad_in, h_module[p_key])        \n",
    "                update = update.reshape(m1._parameters[p_key].shape)\n",
    "                \n",
    "                m1._parameters[p_key] -= update "
   ]
  },
  {
   "cell_type": "code",
   "execution_count": 15,
   "metadata": {},
   "outputs": [],
   "source": [
    "def train_with_l2o(dataloader, model, loss_fn, l2o_optimizer):\n",
    "    h = init_hidden(model)\n",
    "    size = len(dataloader.dataset)\n",
    "    history = []\n",
    "    model.train()\n",
    "    for batch, (X, y) in enumerate(train_dataloader):\n",
    "        # Preprocessing\n",
    "        X, y = X.to(device), y.to(device)\n",
    "\n",
    "        # Forward Pass\n",
    "        pred = model(X)\n",
    "        loss = loss_fn(pred, y)\n",
    "\n",
    "        # Backprop\n",
    "        zero_gradients(model)\n",
    "        loss.backward()\n",
    "        update_weights(model, l2o_optimizer, h)\n",
    "\n",
    "        loss = loss.item()\n",
    "\n",
    "        if batch % output_step == 0:\n",
    "            current = batch * len(X)\n",
    "            print(f\"loss: {loss:>7f}  [{current:>5d}/{size:>5d}]\")\n",
    "            \n",
    "\n",
    "        if batch % history_step == 0:\n",
    "            history.append(loss)\n",
    "\n",
    "    return history"
   ]
  },
  {
   "cell_type": "code",
   "execution_count": 16,
   "metadata": {},
   "outputs": [
    {
     "name": "stdout",
     "output_type": "stream",
     "text": [
      "Epoch: 1\n",
      "loss: 2.311872  [    0/60000]\n",
      "loss: 0.897103  [12800/60000]\n",
      "loss: 0.743096  [25600/60000]\n",
      "loss: 0.651581  [38400/60000]\n",
      "loss: 0.678299  [51200/60000]\n",
      "Epoch: 2\n",
      "loss: 0.441447  [    0/60000]\n",
      "loss: 0.562318  [12800/60000]\n",
      "loss: 0.493247  [25600/60000]\n",
      "loss: 0.491724  [38400/60000]\n",
      "loss: 0.602161  [51200/60000]\n",
      "Epoch: 3\n",
      "loss: 0.327234  [    0/60000]\n",
      "loss: 0.505678  [12800/60000]\n",
      "loss: 0.398235  [25600/60000]\n",
      "loss: 0.421533  [38400/60000]\n",
      "loss: 0.545672  [51200/60000]\n",
      "Epoch: 4\n",
      "loss: 0.299665  [    0/60000]\n",
      "loss: 0.442601  [12800/60000]\n",
      "loss: 0.347484  [25600/60000]\n",
      "loss: 0.380556  [38400/60000]\n",
      "loss: 0.515382  [51200/60000]\n",
      "Epoch: 5\n",
      "loss: 0.275930  [    0/60000]\n",
      "loss: 0.395395  [12800/60000]\n",
      "loss: 0.317655  [25600/60000]\n",
      "loss: 0.356842  [38400/60000]\n",
      "loss: 0.495517  [51200/60000]\n"
     ]
    }
   ],
   "source": [
    "l2o_hist = []\n",
    "for i in range(epochs):\n",
    "    print(f\"Epoch: {i + 1}\")\n",
    "    loss = train_with_l2o(\n",
    "        train_dataloader,\n",
    "        model_for_l2o,\n",
    "        loss_fn,\n",
    "        l2o_optimizer)\n",
    "\n",
    "    l2o_hist.append(loss)\n"
   ]
  },
  {
   "cell_type": "markdown",
   "metadata": {},
   "source": [
    "## Training with GNN optimizer"
   ]
  },
  {
   "cell_type": "code",
   "execution_count": 17,
   "metadata": {},
   "outputs": [],
   "source": [
    "from models.optim_nets import gnn_l2o_optimizer\n",
    "from trainUtil import zero_gradients\n",
    "from graphUtil import nodes_to_network, network_to_edge, network_to_nodes"
   ]
  },
  {
   "cell_type": "code",
   "execution_count": 18,
   "metadata": {},
   "outputs": [
    {
     "data": {
      "text/plain": [
       "gnn_l2o_optimizer(\n",
       "  (LSTM): LSTM(1, 24)\n",
       "  (graph_conv): GCNConv(24, 24)\n",
       "  (linear): Linear(in_features=24, out_features=1, bias=True)\n",
       ")"
      ]
     },
     "execution_count": 18,
     "metadata": {},
     "output_type": "execute_result"
    }
   ],
   "source": [
    "gnn_optimizer = gnn_l2o_optimizer().to(device)\n",
    "gnn_optimizer.load_state_dict(torch.load(\"trained_model/gnn_optimizer.pth\"))\n",
    "gnn_optimizer.eval()"
   ]
  },
  {
   "cell_type": "code",
   "execution_count": 19,
   "metadata": {},
   "outputs": [],
   "source": [
    "edge_index = network_to_edge([28 * 28, 64, 64, 10]).to(device)"
   ]
  },
  {
   "cell_type": "code",
   "execution_count": 20,
   "metadata": {},
   "outputs": [],
   "source": [
    "def update_weights_gnn(model, update_fn, hidden):\n",
    "    \n",
    "    with torch.no_grad():\n",
    "        # This parts create update dictionary using gradients and gnn l2o optimizer\n",
    "        graph_x = network_to_nodes(model, device)\n",
    "        update, hidden = update_fn(graph_x, hidden, edge_index)\n",
    "        update = nodes_to_network(model, update)\n",
    "\n",
    "        for m_key in model._modules:\n",
    "            m1 = model._modules[m_key]\n",
    "            update_module = update[m_key]\n",
    "            for p_key in m1._parameters:\n",
    "                m1._parameters[p_key] -= update_module[p_key]\n",
    "    \n",
    "    return hidden"
   ]
  },
  {
   "cell_type": "code",
   "execution_count": 21,
   "metadata": {},
   "outputs": [],
   "source": [
    "def train_with_gnn(dataloader, model, loss_fn, gnn_optimizer):\n",
    "    h = None\n",
    "    size = len(dataloader.dataset)\n",
    "    history = []\n",
    "    model.train()\n",
    "    for batch, (X, y) in enumerate(train_dataloader):\n",
    "        # Preprocessing\n",
    "        X, y = X.to(device), y.to(device)\n",
    "\n",
    "        # Forward Pass\n",
    "        pred = model(X)\n",
    "        loss = loss_fn(pred, y)\n",
    "\n",
    "        # Backprop\n",
    "        zero_gradients(model)\n",
    "        loss.backward()\n",
    "        \n",
    "        h = update_weights_gnn(model, gnn_optimizer, h)\n",
    "\n",
    "        loss = loss.item()\n",
    "\n",
    "        if batch % output_step == 0:\n",
    "            current = batch * len(X)\n",
    "            print(f\"loss: {loss:>7f}  [{current:>5d}/{size:>5d}]\")\n",
    "            \n",
    "\n",
    "        if batch % history_step == 0:\n",
    "            history.append(loss)\n",
    "\n",
    "    return history"
   ]
  },
  {
   "cell_type": "code",
   "execution_count": 22,
   "metadata": {},
   "outputs": [
    {
     "name": "stdout",
     "output_type": "stream",
     "text": [
      "Epoch: 1\n",
      "loss: 2.311872  [    0/60000]\n",
      "loss: 0.595927  [12800/60000]\n",
      "loss: 0.572165  [25600/60000]\n",
      "loss: 0.485051  [38400/60000]\n",
      "loss: 0.654498  [51200/60000]\n",
      "Epoch: 2\n",
      "loss: 0.357623  [    0/60000]\n",
      "loss: 0.478030  [12800/60000]\n",
      "loss: 0.391269  [25600/60000]\n",
      "loss: 0.376357  [38400/60000]\n",
      "loss: 0.529297  [51200/60000]\n",
      "Epoch: 3\n",
      "loss: 0.302965  [    0/60000]\n",
      "loss: 0.392293  [12800/60000]\n",
      "loss: 0.356117  [25600/60000]\n",
      "loss: 0.332139  [38400/60000]\n",
      "loss: 0.454850  [51200/60000]\n",
      "Epoch: 4\n",
      "loss: 0.270665  [    0/60000]\n",
      "loss: 0.334853  [12800/60000]\n",
      "loss: 0.310543  [25600/60000]\n",
      "loss: 0.313459  [38400/60000]\n",
      "loss: 0.417188  [51200/60000]\n",
      "Epoch: 5\n",
      "loss: 0.257498  [    0/60000]\n",
      "loss: 0.307397  [12800/60000]\n",
      "loss: 0.293185  [25600/60000]\n",
      "loss: 0.301369  [38400/60000]\n",
      "loss: 0.392806  [51200/60000]\n"
     ]
    }
   ],
   "source": [
    "gnn_hist = []\n",
    "for i in range(epochs):\n",
    "    print(f\"Epoch: {i + 1}\")\n",
    "    loss = train_with_gnn(\n",
    "        train_dataloader,\n",
    "        model_for_gnn,\n",
    "        loss_fn,\n",
    "        gnn_optimizer)\n",
    "\n",
    "    gnn_hist.append(loss)\n"
   ]
  },
  {
   "cell_type": "markdown",
   "metadata": {},
   "source": [
    "### Plotting Results"
   ]
  },
  {
   "cell_type": "code",
   "execution_count": 23,
   "metadata": {},
   "outputs": [],
   "source": [
    "from matplotlib import pyplot as plt"
   ]
  },
  {
   "cell_type": "code",
   "execution_count": 24,
   "metadata": {},
   "outputs": [],
   "source": [
    "l2o_hist = torch.tensor(l2o_hist).reshape(-1)\n",
    "his.append(l2o_hist)\n",
    "\n",
    "gnn_hist = torch.tensor(gnn_hist).reshape(-1)\n",
    "his.append(gnn_hist)"
   ]
  },
  {
   "cell_type": "code",
   "execution_count": 27,
   "metadata": {},
   "outputs": [],
   "source": [
    "names = [optimizers[i].__name__ for i in range(num_opts)]\n",
    "names.append(\"L2O-LSTM\")\n",
    "names.append(\"L2O-GNN\")"
   ]
  },
  {
   "cell_type": "code",
   "execution_count": 28,
   "metadata": {},
   "outputs": [
    {
     "data": {
      "image/png": "[encoded data removed]",
      "text/plain": [
       "<Figure size 432x288 with 1 Axes>"
      ]
     },
     "metadata": {
      "needs_background": "light"
     },
     "output_type": "display_data"
    }
   ],
   "source": [
    "plt.xlabel('Training Steps')\n",
    "plt.ylabel('Training Loss')\n",
    "plt.title('Comparing Training using Different Optimizers')\n",
    "for i in range(num_opts + 2):\n",
    "    plt.plot(his[i], label=names[i])\n",
    "\n",
    "plt.legend(loc=\"upper left\")\n",
    "plt.show()"
   ]
  },
  {
   "cell_type": "code",
   "execution_count": null,
   "metadata": {},
   "outputs": [],
   "source": []
  }
 ],
 "metadata": {
  "kernelspec": {
   "display_name": "Python 3.10.4 64-bit",
   "language": "python",
   "name": "python3"
  },
  "language_info": {
   "codemirror_mode": {
    "name": "ipython",
    "version": 3
   },
   "file_extension": ".py",
   "mimetype": "text/x-python",
   "name": "python",
   "nbconvert_exporter": "python",
   "pygments_lexer": "ipython3",
   "version": "3.10.4"
  },
  "orig_nbformat": 4,
  "vscode": {
   "interpreter": {
    "hash": "369f2c481f4da34e4445cda3fffd2e751bd1c4d706f27375911949ba6bb62e1c"
   }
  }
 },
 "nbformat": 4,
 "nbformat_minor": 2
}
