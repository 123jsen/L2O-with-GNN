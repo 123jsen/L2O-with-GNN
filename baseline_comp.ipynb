{
 "cells": [
  {
   "cell_type": "code",
   "execution_count": 1,
   "metadata": {},
   "outputs": [
    {
     "name": "stdout",
     "output_type": "stream",
     "text": [
      "using cuda\n"
     ]
    }
   ],
   "source": [
    "import torch\n",
    "from torch import nn\n",
    "from torch.utils.data import DataLoader\n",
    "from torchvision import datasets\n",
    "from torchvision.transforms import ToTensor\n",
    "\n",
    "from models.mnist_nets import deep_net\n",
    "\n",
    "device = \"cuda\" if torch.cuda.is_available() else \"cpu\"\n",
    "print(f\"using {device}\")"
   ]
  },
  {
   "cell_type": "code",
   "execution_count": 2,
   "metadata": {},
   "outputs": [],
   "source": [
    "# Download training data from open datasets.\n",
    "training_data = datasets.MNIST(\n",
    "    root=\"data\",\n",
    "    train=True,\n",
    "    download=True,\n",
    "    transform=ToTensor(),\n",
    ")\n",
    "\n",
    "# Download test data from open datasets.\n",
    "test_data = datasets.MNIST(\n",
    "    root=\"data\",\n",
    "    train=False,\n",
    "    download=True,\n",
    "    transform=ToTensor(),\n",
    ")"
   ]
  },
  {
   "cell_type": "code",
   "execution_count": 3,
   "metadata": {},
   "outputs": [],
   "source": [
    "# Constants\n",
    "\n",
    "history_step = 15\n",
    "output_step = 100"
   ]
  },
  {
   "cell_type": "code",
   "execution_count": 4,
   "metadata": {},
   "outputs": [],
   "source": [
    "# Hyperparameters\n",
    "\n",
    "batch_size = 128\n",
    "epochs = 5"
   ]
  },
  {
   "cell_type": "code",
   "execution_count": 5,
   "metadata": {},
   "outputs": [
    {
     "name": "stdout",
     "output_type": "stream",
     "text": [
      "Number of batches: 469\n"
     ]
    }
   ],
   "source": [
    "# Create data loaders.\n",
    "train_dataloader = DataLoader(training_data, batch_size=batch_size)\n",
    "test_dataloader = DataLoader(test_data, batch_size=batch_size)\n",
    "\n",
    "print(f\"Number of batches: {len(train_dataloader)}\")"
   ]
  },
  {
   "cell_type": "code",
   "execution_count": 6,
   "metadata": {},
   "outputs": [],
   "source": [
    "optimizers = [\n",
    "    torch.optim.SGD,\n",
    "    torch.optim.Adam,\n",
    "    torch.optim.RMSprop\n",
    "]\n",
    "\n",
    "lrs = [0.01, 0.001, 0.01]\n",
    "\n",
    "num_opts = len(optimizers)"
   ]
  },
  {
   "cell_type": "code",
   "execution_count": 7,
   "metadata": {},
   "outputs": [],
   "source": [
    "from copy import deepcopy\n",
    "model = deep_net(28*28, 10).to(device)\n",
    "models = [deepcopy(model) for _ in range(num_opts)]\n",
    "model_for_l2o = deepcopy(model)"
   ]
  },
  {
   "cell_type": "code",
   "execution_count": 8,
   "metadata": {},
   "outputs": [],
   "source": [
    "loss_fn = nn.CrossEntropyLoss()"
   ]
  },
  {
   "cell_type": "code",
   "execution_count": 9,
   "metadata": {},
   "outputs": [],
   "source": [
    "def train(dataloader, model, loss_fn, optimizer):\n",
    "    size = len(dataloader.dataset)\n",
    "    history = []\n",
    "    model.train()\n",
    "    for batch, (X, y) in enumerate(dataloader):\n",
    "        X, y = X.to(device), y.to(device)\n",
    "\n",
    "        # Compute prediction error\n",
    "        pred = model(X)\n",
    "        loss = loss_fn(pred, y)\n",
    "\n",
    "        # Backpropagation\n",
    "        optimizer.zero_grad()\n",
    "        loss.backward()\n",
    "        optimizer.step()\n",
    "\n",
    "        loss = loss.item()\n",
    "\n",
    "        if batch % output_step == 0:\n",
    "            current = batch * len(X)\n",
    "            print(f\"loss: {loss:>7f}  [{current:>5d}/{size:>5d}]\")\n",
    "            \n",
    "\n",
    "        if batch % history_step == 0:\n",
    "            history.append(loss)\n",
    "            \n",
    "    return history"
   ]
  },
  {
   "cell_type": "code",
   "execution_count": 10,
   "metadata": {},
   "outputs": [
    {
     "name": "stdout",
     "output_type": "stream",
     "text": [
      "Using SGD\n",
      "Epoch 1: \n",
      "loss: 2.303852  [    0/60000]\n",
      "loss: 2.281038  [12800/60000]\n",
      "loss: 2.256172  [25600/60000]\n",
      "loss: 2.222023  [38400/60000]\n",
      "loss: 2.190644  [51200/60000]\n",
      "Epoch 2: \n",
      "loss: 2.087528  [    0/60000]\n",
      "loss: 1.997198  [12800/60000]\n",
      "loss: 1.798122  [25600/60000]\n",
      "loss: 1.558962  [38400/60000]\n",
      "loss: 1.358188  [51200/60000]\n",
      "Epoch 3: \n",
      "loss: 1.151088  [    0/60000]\n",
      "loss: 1.023463  [12800/60000]\n",
      "loss: 0.814554  [25600/60000]\n",
      "loss: 0.734177  [38400/60000]\n",
      "loss: 0.759130  [51200/60000]\n",
      "Epoch 4: \n",
      "loss: 0.673706  [    0/60000]\n",
      "loss: 0.631435  [12800/60000]\n",
      "loss: 0.533278  [25600/60000]\n",
      "loss: 0.542672  [38400/60000]\n",
      "loss: 0.617653  [51200/60000]\n",
      "Epoch 5: \n",
      "loss: 0.511664  [    0/60000]\n",
      "loss: 0.484068  [12800/60000]\n",
      "loss: 0.408482  [25600/60000]\n",
      "loss: 0.457322  [38400/60000]\n",
      "loss: 0.546507  [51200/60000]\n",
      "Done!\n",
      "\n",
      "Using Adam\n",
      "Epoch 1: \n",
      "loss: 2.303852  [    0/60000]\n",
      "loss: 0.630315  [12800/60000]\n",
      "loss: 0.377074  [25600/60000]\n",
      "loss: 0.337367  [38400/60000]\n",
      "loss: 0.371790  [51200/60000]\n",
      "Epoch 2: \n",
      "loss: 0.243726  [    0/60000]\n",
      "loss: 0.226132  [12800/60000]\n",
      "loss: 0.236516  [25600/60000]\n",
      "loss: 0.228238  [38400/60000]\n",
      "loss: 0.281664  [51200/60000]\n",
      "Epoch 3: \n",
      "loss: 0.170334  [    0/60000]\n",
      "loss: 0.169983  [12800/60000]\n",
      "loss: 0.218157  [25600/60000]\n",
      "loss: 0.165163  [38400/60000]\n",
      "loss: 0.236743  [51200/60000]\n",
      "Epoch 4: \n",
      "loss: 0.128303  [    0/60000]\n",
      "loss: 0.135738  [12800/60000]\n",
      "loss: 0.202748  [25600/60000]\n",
      "loss: 0.129827  [38400/60000]\n",
      "loss: 0.207694  [51200/60000]\n",
      "Epoch 5: \n",
      "loss: 0.104928  [    0/60000]\n",
      "loss: 0.117185  [12800/60000]\n",
      "loss: 0.168167  [25600/60000]\n",
      "loss: 0.117333  [38400/60000]\n",
      "loss: 0.177348  [51200/60000]\n",
      "Done!\n",
      "\n",
      "Using RMSprop\n",
      "Epoch 1: \n",
      "loss: 2.303852  [    0/60000]\n",
      "loss: 0.394601  [12800/60000]\n",
      "loss: 0.248383  [25600/60000]\n",
      "loss: 0.267953  [38400/60000]\n",
      "loss: 0.350212  [51200/60000]\n",
      "Epoch 2: \n",
      "loss: 0.194632  [    0/60000]\n",
      "loss: 0.179058  [12800/60000]\n",
      "loss: 0.196320  [25600/60000]\n",
      "loss: 0.249727  [38400/60000]\n",
      "loss: 0.300329  [51200/60000]\n",
      "Epoch 3: \n",
      "loss: 0.080676  [    0/60000]\n",
      "loss: 0.154905  [12800/60000]\n",
      "loss: 0.124789  [25600/60000]\n",
      "loss: 0.189353  [38400/60000]\n",
      "loss: 0.250091  [51200/60000]\n",
      "Epoch 4: \n",
      "loss: 0.099418  [    0/60000]\n",
      "loss: 0.224958  [12800/60000]\n",
      "loss: 0.093177  [25600/60000]\n",
      "loss: 0.194194  [38400/60000]\n",
      "loss: 0.325087  [51200/60000]\n",
      "Epoch 5: \n",
      "loss: 0.037391  [    0/60000]\n",
      "loss: 0.204753  [12800/60000]\n",
      "loss: 0.107610  [25600/60000]\n",
      "loss: 0.152730  [38400/60000]\n",
      "loss: 0.261576  [51200/60000]\n",
      "Done!\n",
      "\n"
     ]
    }
   ],
   "source": [
    "his = [[] for _ in range(num_opts)]\n",
    "for i in range(num_opts):\n",
    "    print(f\"Using {optimizers[i].__name__}\")\n",
    "    for t in range(epochs):\n",
    "        print(f\"Epoch {t+1}: \")\n",
    "        \n",
    "        loss = train(\n",
    "            train_dataloader,\n",
    "            models[i],\n",
    "            loss_fn,\n",
    "            optimizers[i](models[i].parameters(), lr=lrs[i]))\n",
    "\n",
    "        his[i].append(loss)\n",
    "\n",
    "    print(\"Done!\\n\")"
   ]
  },
  {
   "cell_type": "code",
   "execution_count": 11,
   "metadata": {},
   "outputs": [],
   "source": [
    "for i in range(num_opts):\n",
    "    his[i] = torch.tensor(his[i]).reshape(-1)"
   ]
  },
  {
   "cell_type": "markdown",
   "metadata": {},
   "source": [
    "## Using L2O Optimizer"
   ]
  },
  {
   "cell_type": "code",
   "execution_count": 12,
   "metadata": {},
   "outputs": [],
   "source": [
    "from models.optim_nets import lstm_l2o_optimizer   "
   ]
  },
  {
   "cell_type": "code",
   "execution_count": 13,
   "metadata": {},
   "outputs": [
    {
     "data": {
      "text/plain": [
       "lstm_l2o_optimizer(\n",
       "  (LSTM): LSTM(1, 24)\n",
       "  (linear): Linear(in_features=24, out_features=1, bias=True)\n",
       ")"
      ]
     },
     "execution_count": 13,
     "metadata": {},
     "output_type": "execute_result"
    }
   ],
   "source": [
    "l2o_optimizer = lstm_l2o_optimizer().to(device)\n",
    "l2o_optimizer.load_state_dict(torch.load(\"trained_model/l2o_optimizer.pth\"))\n",
    "l2o_optimizer.eval()"
   ]
  },
  {
   "cell_type": "code",
   "execution_count": 14,
   "metadata": {},
   "outputs": [],
   "source": [
    "def init_hidden(model):\n",
    "    # Initializes a hidden state dictionary for every parameter value in the model.\n",
    "    h = {}\n",
    "\n",
    "    for m_key in model._modules:\n",
    "        modules = model._modules[m_key]\n",
    "        h_module = {}\n",
    "        for p_key in modules._parameters:\n",
    "            h_module[p_key] = None\n",
    "        h[m_key] = h_module\n",
    "    \n",
    "    return h"
   ]
  },
  {
   "cell_type": "code",
   "execution_count": 15,
   "metadata": {},
   "outputs": [],
   "source": [
    "def update_weights(model, update_fn, hidden):\n",
    "    with torch.no_grad():\n",
    "        for m_key in model._modules:\n",
    "            m1 = model._modules[m_key]\n",
    "            h_module = hidden[m_key]\n",
    "            for p_key in m1._parameters:\n",
    "                \n",
    "                grad_in = m1._parameters[p_key].grad.reshape(1, -1, 1)\n",
    "\n",
    "                update, h_module[p_key] = update_fn(grad_in, h_module[p_key])        \n",
    "                update = update.reshape(m1._parameters[p_key].shape)\n",
    "                \n",
    "                m1._parameters[p_key] -= update "
   ]
  },
  {
   "cell_type": "code",
   "execution_count": 16,
   "metadata": {},
   "outputs": [],
   "source": [
    "def zero_gradients(model):\n",
    "    for m_key in model._modules:\n",
    "        m1 = model._modules[m_key]\n",
    "        for p_key in m1._parameters:\n",
    "            # Shape for Batch input: (1, Num, 1)\n",
    "            # Shape for Hidden State: (1, Num, 24)\n",
    "            \n",
    "            if m1._parameters[p_key].grad is not None:\n",
    "                m1._parameters[p_key].grad.zero_()"
   ]
  },
  {
   "cell_type": "code",
   "execution_count": 17,
   "metadata": {},
   "outputs": [],
   "source": [
    "def train_with_l2o(dataloader, model, loss_fn, l2o_optimizer):\n",
    "    h = init_hidden(model)\n",
    "    size = len(dataloader.dataset)\n",
    "    history = []\n",
    "    model.train()\n",
    "    for batch, (X, y) in enumerate(train_dataloader):\n",
    "        # Preprocessing\n",
    "        X, y = X.to(device), y.to(device)\n",
    "\n",
    "        # Forward Pass\n",
    "        pred = model(X)\n",
    "        loss = loss_fn(pred, y)\n",
    "\n",
    "        # Backprop\n",
    "        zero_gradients(model)\n",
    "        loss.backward()\n",
    "        update_weights(model, l2o_optimizer, h)\n",
    "\n",
    "        loss = loss.item()\n",
    "\n",
    "        if batch % output_step == 0:\n",
    "            current = batch * len(X)\n",
    "            print(f\"loss: {loss:>7f}  [{current:>5d}/{size:>5d}]\")\n",
    "            \n",
    "\n",
    "        if batch % history_step == 0:\n",
    "            history.append(loss)\n",
    "\n",
    "    return history"
   ]
  },
  {
   "cell_type": "code",
   "execution_count": 18,
   "metadata": {},
   "outputs": [
    {
     "name": "stdout",
     "output_type": "stream",
     "text": [
      "Epoch: 1\n",
      "loss: 2.303852  [    0/60000]\n",
      "loss: 1.233108  [12800/60000]\n",
      "loss: 0.450868  [25600/60000]\n",
      "loss: 0.408067  [38400/60000]\n",
      "loss: 0.462550  [51200/60000]\n",
      "Epoch: 2\n",
      "loss: 0.279897  [    0/60000]\n",
      "loss: 0.232362  [12800/60000]\n",
      "loss: 0.229996  [25600/60000]\n",
      "loss: 0.250486  [38400/60000]\n",
      "loss: 0.353142  [51200/60000]\n",
      "Epoch: 3\n",
      "loss: 0.184123  [    0/60000]\n",
      "loss: 0.175154  [12800/60000]\n",
      "loss: 0.179623  [25600/60000]\n",
      "loss: 0.197728  [38400/60000]\n",
      "loss: 0.285651  [51200/60000]\n",
      "Epoch: 4\n",
      "loss: 0.150795  [    0/60000]\n",
      "loss: 0.138268  [12800/60000]\n",
      "loss: 0.150776  [25600/60000]\n",
      "loss: 0.172841  [38400/60000]\n",
      "loss: 0.244384  [51200/60000]\n",
      "Epoch: 5\n",
      "loss: 0.136770  [    0/60000]\n",
      "loss: 0.121795  [12800/60000]\n",
      "loss: 0.136632  [25600/60000]\n",
      "loss: 0.152392  [38400/60000]\n",
      "loss: 0.216006  [51200/60000]\n"
     ]
    }
   ],
   "source": [
    "l2o_hist = []\n",
    "for i in range(epochs):\n",
    "    print(f\"Epoch: {i + 1}\")\n",
    "    loss = train_with_l2o(\n",
    "        train_dataloader,\n",
    "        model_for_l2o,\n",
    "        loss_fn,\n",
    "        l2o_optimizer)\n",
    "\n",
    "    l2o_hist.append(loss)\n"
   ]
  },
  {
   "cell_type": "markdown",
   "metadata": {},
   "source": [
    "### Plotting Results"
   ]
  },
  {
   "cell_type": "code",
   "execution_count": 19,
   "metadata": {},
   "outputs": [],
   "source": [
    "from matplotlib import pyplot as plt"
   ]
  },
  {
   "cell_type": "code",
   "execution_count": 20,
   "metadata": {},
   "outputs": [],
   "source": [
    "l2o_hist = torch.tensor(l2o_hist).reshape(-1)\n",
    "his.append(l2o_hist)"
   ]
  },
  {
   "cell_type": "code",
   "execution_count": 21,
   "metadata": {},
   "outputs": [],
   "source": [
    "names = [optimizers[i].__name__ for i in range(num_opts)]\n",
    "names.append(\"L2O-LSTM\")"
   ]
  },
  {
   "cell_type": "code",
   "execution_count": 22,
   "metadata": {},
   "outputs": [
    {
     "data": {
      "image/png": "[encoded data removed]",
      "text/plain": [
       "<Figure size 432x288 with 1 Axes>"
      ]
     },
     "metadata": {
      "needs_background": "light"
     },
     "output_type": "display_data"
    }
   ],
   "source": [
    "plt.xlabel('Training Steps')\n",
    "plt.ylabel('Training Loss')\n",
    "plt.title('Comparing Training using Different Optimizers')\n",
    "for i in range(num_opts + 1):\n",
    "    plt.plot(his[i], label=names[i])\n",
    "\n",
    "plt.legend(loc=\"upper left\")\n",
    "plt.show()"
   ]
  },
  {
   "cell_type": "code",
   "execution_count": null,
   "metadata": {},
   "outputs": [],
   "source": []
  }
 ],
 "metadata": {
  "kernelspec": {
   "display_name": "Python 3.10.4 64-bit",
   "language": "python",
   "name": "python3"
  },
  "language_info": {
   "codemirror_mode": {
    "name": "ipython",
    "version": 3
   },
   "file_extension": ".py",
   "mimetype": "text/x-python",
   "name": "python",
   "nbconvert_exporter": "python",
   "pygments_lexer": "ipython3",
   "version": "3.10.4"
  },
  "orig_nbformat": 4,
  "vscode": {
   "interpreter": {
    "hash": "369f2c481f4da34e4445cda3fffd2e751bd1c4d706f27375911949ba6bb62e1c"
   }
  }
 },
 "nbformat": 4,
 "nbformat_minor": 2
}
