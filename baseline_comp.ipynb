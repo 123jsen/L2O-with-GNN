{
 "cells": [
  {
   "cell_type": "code",
   "execution_count": null,
   "metadata": {},
   "outputs": [],
   "source": [
    "import torch\n",
    "from torch import nn\n",
    "from torch.utils.data import DataLoader\n",
    "from torchvision import datasets\n",
    "from torchvision.transforms import ToTensor\n",
    "\n",
    "from models.mnist_nets import deep_net\n",
    "\n",
    "device = \"cuda\" if torch.cuda.is_available() else \"cpu\"\n",
    "print(f\"using {device}\")"
   ]
  },
  {
   "cell_type": "code",
   "execution_count": null,
   "metadata": {},
   "outputs": [],
   "source": [
    "# Download training data from open datasets.\n",
    "training_data = datasets.MNIST(\n",
    "    root=\"data\",\n",
    "    train=True,\n",
    "    download=True,\n",
    "    transform=ToTensor(),\n",
    ")\n",
    "\n",
    "# Download test data from open datasets.\n",
    "test_data = datasets.MNIST(\n",
    "    root=\"data\",\n",
    "    train=False,\n",
    "    download=True,\n",
    "    transform=ToTensor(),\n",
    ")"
   ]
  },
  {
   "cell_type": "code",
   "execution_count": null,
   "metadata": {},
   "outputs": [],
   "source": [
    "# Constants\n",
    "\n",
    "history_step = 15\n",
    "output_step = 100"
   ]
  },
  {
   "cell_type": "code",
   "execution_count": null,
   "metadata": {},
   "outputs": [],
   "source": [
    "# Hyperparameters\n",
    "\n",
    "batch_size = 128\n",
    "epochs = 5"
   ]
  },
  {
   "cell_type": "code",
   "execution_count": null,
   "metadata": {},
   "outputs": [],
   "source": [
    "# Create data loaders.\n",
    "train_dataloader = DataLoader(training_data, batch_size=batch_size)\n",
    "test_dataloader = DataLoader(test_data, batch_size=batch_size)\n",
    "\n",
    "print(f\"Number of batches: {len(train_dataloader)}\")"
   ]
  },
  {
   "cell_type": "code",
   "execution_count": null,
   "metadata": {},
   "outputs": [],
   "source": [
    "optimizers = [\n",
    "    torch.optim.SGD,\n",
    "    torch.optim.Adam,\n",
    "    torch.optim.RMSprop\n",
    "]\n",
    "\n",
    "lrs = [0.01, 0.001, 0.01]\n",
    "\n",
    "num_opts = len(optimizers)"
   ]
  },
  {
   "cell_type": "code",
   "execution_count": null,
   "metadata": {},
   "outputs": [],
   "source": [
    "from copy import deepcopy\n",
    "model = deep_net(28*28, 10).to(device)\n",
    "models = [deepcopy(model) for _ in range(num_opts)]\n",
    "model_for_l2o = deepcopy(model)"
   ]
  },
  {
   "cell_type": "code",
   "execution_count": null,
   "metadata": {},
   "outputs": [],
   "source": [
    "loss_fn = nn.CrossEntropyLoss()"
   ]
  },
  {
   "cell_type": "code",
   "execution_count": null,
   "metadata": {},
   "outputs": [],
   "source": [
    "def train(dataloader, model, loss_fn, optimizer):\n",
    "    size = len(dataloader.dataset)\n",
    "    history = []\n",
    "    model.train()\n",
    "    for batch, (X, y) in enumerate(dataloader):\n",
    "        X, y = X.to(device), y.to(device)\n",
    "\n",
    "        # Compute prediction error\n",
    "        pred = model(X)\n",
    "        loss = loss_fn(pred, y)\n",
    "\n",
    "        # Backpropagation\n",
    "        optimizer.zero_grad()\n",
    "        loss.backward()\n",
    "        optimizer.step()\n",
    "\n",
    "        loss = loss.item()\n",
    "\n",
    "        if batch % output_step == 0:\n",
    "            current = batch * len(X)\n",
    "            print(f\"loss: {loss:>7f}  [{current:>5d}/{size:>5d}]\")\n",
    "            \n",
    "\n",
    "        if batch % history_step == 0:\n",
    "            history.append(loss)\n",
    "            \n",
    "    return history"
   ]
  },
  {
   "cell_type": "code",
   "execution_count": null,
   "metadata": {},
   "outputs": [],
   "source": [
    "his = [[] for _ in range(num_opts)]\n",
    "for i in range(num_opts):\n",
    "    print(f\"Using {optimizers[i].__name__}\")\n",
    "    for t in range(epochs):\n",
    "        print(f\"Epoch {t+1}: \")\n",
    "        \n",
    "        loss = train(\n",
    "            train_dataloader,\n",
    "            models[i],\n",
    "            loss_fn,\n",
    "            optimizers[i](models[i].parameters(), lr=lrs[i]))\n",
    "\n",
    "        his[i].append(loss)\n",
    "\n",
    "    print(\"Done!\\n\")"
   ]
  },
  {
   "cell_type": "code",
   "execution_count": null,
   "metadata": {},
   "outputs": [],
   "source": [
    "for i in range(num_opts):\n",
    "    his[i] = torch.tensor(his[i]).reshape(-1)"
   ]
  },
  {
   "cell_type": "markdown",
   "metadata": {},
   "source": [
    "## Using L2O Optimizer"
   ]
  },
  {
   "cell_type": "code",
   "execution_count": null,
   "metadata": {},
   "outputs": [],
   "source": [
    "from models.optim_nets import lstm_l2o_optimizer   \n",
    "from trainUtil import init_hidden, zero_gradients"
   ]
  },
  {
   "cell_type": "code",
   "execution_count": null,
   "metadata": {},
   "outputs": [],
   "source": [
    "l2o_optimizer = lstm_l2o_optimizer().to(device)\n",
    "l2o_optimizer.load_state_dict(torch.load(\"trained_model/l2o_optimizer.pth\"))\n",
    "l2o_optimizer.eval()"
   ]
  },
  {
   "cell_type": "code",
   "execution_count": null,
   "metadata": {},
   "outputs": [],
   "source": [
    "def update_weights(model, update_fn, hidden):\n",
    "    with torch.no_grad():\n",
    "        for m_key in model._modules:\n",
    "            m1 = model._modules[m_key]\n",
    "            h_module = hidden[m_key]\n",
    "            for p_key in m1._parameters:\n",
    "                \n",
    "                grad_in = m1._parameters[p_key].grad.reshape(1, -1, 1)\n",
    "\n",
    "                update, h_module[p_key] = update_fn(grad_in, h_module[p_key])        \n",
    "                update = update.reshape(m1._parameters[p_key].shape)\n",
    "                \n",
    "                m1._parameters[p_key] -= update "
   ]
  },
  {
   "cell_type": "code",
   "execution_count": null,
   "metadata": {},
   "outputs": [],
   "source": [
    "def train_with_l2o(dataloader, model, loss_fn, l2o_optimizer):\n",
    "    h = init_hidden(model)\n",
    "    size = len(dataloader.dataset)\n",
    "    history = []\n",
    "    model.train()\n",
    "    for batch, (X, y) in enumerate(train_dataloader):\n",
    "        # Preprocessing\n",
    "        X, y = X.to(device), y.to(device)\n",
    "\n",
    "        # Forward Pass\n",
    "        pred = model(X)\n",
    "        loss = loss_fn(pred, y)\n",
    "\n",
    "        # Backprop\n",
    "        zero_gradients(model)\n",
    "        loss.backward()\n",
    "        update_weights(model, l2o_optimizer, h)\n",
    "\n",
    "        loss = loss.item()\n",
    "\n",
    "        if batch % output_step == 0:\n",
    "            current = batch * len(X)\n",
    "            print(f\"loss: {loss:>7f}  [{current:>5d}/{size:>5d}]\")\n",
    "            \n",
    "\n",
    "        if batch % history_step == 0:\n",
    "            history.append(loss)\n",
    "\n",
    "    return history"
   ]
  },
  {
   "cell_type": "code",
   "execution_count": null,
   "metadata": {},
   "outputs": [],
   "source": [
    "l2o_hist = []\n",
    "for i in range(epochs):\n",
    "    print(f\"Epoch: {i + 1}\")\n",
    "    loss = train_with_l2o(\n",
    "        train_dataloader,\n",
    "        model_for_l2o,\n",
    "        loss_fn,\n",
    "        l2o_optimizer)\n",
    "\n",
    "    l2o_hist.append(loss)\n"
   ]
  },
  {
   "cell_type": "markdown",
   "metadata": {},
   "source": [
    "### Plotting Results"
   ]
  },
  {
   "cell_type": "code",
   "execution_count": null,
   "metadata": {},
   "outputs": [],
   "source": [
    "from matplotlib import pyplot as plt"
   ]
  },
  {
   "cell_type": "code",
   "execution_count": null,
   "metadata": {},
   "outputs": [],
   "source": [
    "l2o_hist = torch.tensor(l2o_hist).reshape(-1)\n",
    "his.append(l2o_hist)"
   ]
  },
  {
   "cell_type": "code",
   "execution_count": null,
   "metadata": {},
   "outputs": [],
   "source": [
    "names = [optimizers[i].__name__ for i in range(num_opts)]\n",
    "names.append(\"L2O-LSTM\")"
   ]
  },
  {
   "cell_type": "code",
   "execution_count": null,
   "metadata": {},
   "outputs": [],
   "source": [
    "plt.xlabel('Training Steps')\n",
    "plt.ylabel('Training Loss')\n",
    "plt.title('Comparing Training using Different Optimizers')\n",
    "for i in range(num_opts + 1):\n",
    "    plt.plot(his[i], label=names[i])\n",
    "\n",
    "plt.legend(loc=\"upper left\")\n",
    "plt.show()"
   ]
  },
  {
   "cell_type": "code",
   "execution_count": null,
   "metadata": {},
   "outputs": [],
   "source": []
  }
 ],
 "metadata": {
  "kernelspec": {
   "display_name": "Python 3.10.4 64-bit",
   "language": "python",
   "name": "python3"
  },
  "language_info": {
   "codemirror_mode": {
    "name": "ipython",
    "version": 3
   },
   "file_extension": ".py",
   "mimetype": "text/x-python",
   "name": "python",
   "nbconvert_exporter": "python",
   "pygments_lexer": "ipython3",
   "version": "3.10.4"
  },
  "orig_nbformat": 4,
  "vscode": {
   "interpreter": {
    "hash": "369f2c481f4da34e4445cda3fffd2e751bd1c4d706f27375911949ba6bb62e1c"
   }
  }
 },
 "nbformat": 4,
 "nbformat_minor": 2
}
