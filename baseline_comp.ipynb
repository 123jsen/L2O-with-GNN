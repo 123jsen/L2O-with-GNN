{
 "cells": [
  {
   "cell_type": "code",
   "execution_count": 1,
   "metadata": {},
   "outputs": [
    {
     "name": "stdout",
     "output_type": "stream",
     "text": [
      "using cuda\n"
     ]
    }
   ],
   "source": [
    "import torch\n",
    "from torch import nn\n",
    "from torch.utils.data import DataLoader\n",
    "from torchvision import datasets\n",
    "from torchvision.transforms import ToTensor\n",
    "\n",
    "from models.mnist_nets import deep_net\n",
    "\n",
    "device = \"cuda\" if torch.cuda.is_available() else \"cpu\"\n",
    "print(f\"using {device}\")"
   ]
  },
  {
   "cell_type": "code",
   "execution_count": 2,
   "metadata": {},
   "outputs": [],
   "source": [
    "# Download training data from open datasets.\n",
    "training_data = datasets.MNIST(\n",
    "    root=\"data\",\n",
    "    train=True,\n",
    "    download=True,\n",
    "    transform=ToTensor(),\n",
    ")\n",
    "\n",
    "# Download test data from open datasets.\n",
    "test_data = datasets.MNIST(\n",
    "    root=\"data\",\n",
    "    train=False,\n",
    "    download=True,\n",
    "    transform=ToTensor(),\n",
    ")"
   ]
  },
  {
   "cell_type": "code",
   "execution_count": 3,
   "metadata": {},
   "outputs": [],
   "source": [
    "# Constants\n",
    "\n",
    "history_step = 15\n",
    "output_step = 100"
   ]
  },
  {
   "cell_type": "code",
   "execution_count": 4,
   "metadata": {},
   "outputs": [],
   "source": [
    "# Hyperparameters\n",
    "\n",
    "batch_size = 128\n",
    "epochs = 5"
   ]
  },
  {
   "cell_type": "code",
   "execution_count": 5,
   "metadata": {},
   "outputs": [
    {
     "name": "stdout",
     "output_type": "stream",
     "text": [
      "Number of batches: 469\n"
     ]
    }
   ],
   "source": [
    "# Create data loaders.\n",
    "train_dataloader = DataLoader(training_data, batch_size=batch_size)\n",
    "test_dataloader = DataLoader(test_data, batch_size=batch_size)\n",
    "\n",
    "print(f\"Number of batches: {len(train_dataloader)}\")"
   ]
  },
  {
   "cell_type": "code",
   "execution_count": 6,
   "metadata": {},
   "outputs": [],
   "source": [
    "optimizers = [\n",
    "    torch.optim.SGD,\n",
    "    torch.optim.Adam,\n",
    "    torch.optim.RMSprop\n",
    "]\n",
    "\n",
    "lrs = [0.01, 0.001, 0.01]\n",
    "\n",
    "num_opts = len(optimizers)"
   ]
  },
  {
   "cell_type": "code",
   "execution_count": 7,
   "metadata": {},
   "outputs": [],
   "source": [
    "from copy import deepcopy\n",
    "model = deep_net(28*28, 10).to(device)\n",
    "models = [deepcopy(model) for _ in range(num_opts)]\n",
    "model_for_l2o = deepcopy(model)\n",
    "model_for_gnn = deepcopy(model)"
   ]
  },
  {
   "cell_type": "code",
   "execution_count": 8,
   "metadata": {},
   "outputs": [],
   "source": [
    "loss_fn = nn.CrossEntropyLoss()"
   ]
  },
  {
   "cell_type": "code",
   "execution_count": 9,
   "metadata": {},
   "outputs": [],
   "source": [
    "def train(dataloader, model, loss_fn, optimizer):\n",
    "    size = len(dataloader.dataset)\n",
    "    history = []\n",
    "    model.train()\n",
    "    for batch, (X, y) in enumerate(dataloader):\n",
    "        X, y = X.to(device), y.to(device)\n",
    "\n",
    "        # Compute prediction error\n",
    "        pred = model(X)\n",
    "        loss = loss_fn(pred, y)\n",
    "\n",
    "        # Backpropagation\n",
    "        optimizer.zero_grad()\n",
    "        loss.backward()\n",
    "        optimizer.step()\n",
    "\n",
    "        loss = loss.item()\n",
    "\n",
    "        if batch % output_step == 0:\n",
    "            current = batch * len(X)\n",
    "            print(f\"loss: {loss:>7f}  [{current:>5d}/{size:>5d}]\")\n",
    "            \n",
    "\n",
    "        if batch % history_step == 0:\n",
    "            history.append(loss)\n",
    "            \n",
    "    return history"
   ]
  },
  {
   "cell_type": "code",
   "execution_count": 10,
   "metadata": {},
   "outputs": [
    {
     "name": "stdout",
     "output_type": "stream",
     "text": [
      "Using SGD\n",
      "Epoch 1: \n",
      "loss: 2.311520  [    0/60000]\n",
      "loss: 2.277053  [12800/60000]\n",
      "loss: 2.223558  [25600/60000]\n",
      "loss: 2.184005  [38400/60000]\n",
      "loss: 2.059866  [51200/60000]\n",
      "Epoch 2: \n",
      "loss: 1.909535  [    0/60000]\n",
      "loss: 1.776246  [12800/60000]\n",
      "loss: 1.444299  [25600/60000]\n",
      "loss: 1.281831  [38400/60000]\n",
      "loss: 1.092594  [51200/60000]\n",
      "Epoch 3: \n",
      "loss: 0.890917  [    0/60000]\n",
      "loss: 0.846351  [12800/60000]\n",
      "loss: 0.616029  [25600/60000]\n",
      "loss: 0.660696  [38400/60000]\n",
      "loss: 0.715388  [51200/60000]\n",
      "Epoch 4: \n",
      "loss: 0.594974  [    0/60000]\n",
      "loss: 0.558178  [12800/60000]\n",
      "loss: 0.419568  [25600/60000]\n",
      "loss: 0.520043  [38400/60000]\n",
      "loss: 0.596963  [51200/60000]\n",
      "Epoch 5: \n",
      "loss: 0.478483  [    0/60000]\n",
      "loss: 0.451172  [12800/60000]\n",
      "loss: 0.346951  [25600/60000]\n",
      "loss: 0.461492  [38400/60000]\n",
      "loss: 0.526523  [51200/60000]\n",
      "Done!\n",
      "\n",
      "Using Adam\n",
      "Epoch 1: \n",
      "loss: 2.311520  [    0/60000]\n",
      "loss: 0.617114  [12800/60000]\n",
      "loss: 0.358358  [25600/60000]\n",
      "loss: 0.365011  [38400/60000]\n",
      "loss: 0.336733  [51200/60000]\n",
      "Epoch 2: \n",
      "loss: 0.245497  [    0/60000]\n",
      "loss: 0.211925  [12800/60000]\n",
      "loss: 0.246958  [25600/60000]\n",
      "loss: 0.235993  [38400/60000]\n",
      "loss: 0.252296  [51200/60000]\n",
      "Epoch 3: \n",
      "loss: 0.148357  [    0/60000]\n",
      "loss: 0.164058  [12800/60000]\n",
      "loss: 0.207832  [25600/60000]\n",
      "loss: 0.180208  [38400/60000]\n",
      "loss: 0.198052  [51200/60000]\n",
      "Epoch 4: \n",
      "loss: 0.123017  [    0/60000]\n",
      "loss: 0.135476  [12800/60000]\n",
      "loss: 0.181354  [25600/60000]\n",
      "loss: 0.154911  [38400/60000]\n",
      "loss: 0.169420  [51200/60000]\n",
      "Epoch 5: \n",
      "loss: 0.114226  [    0/60000]\n",
      "loss: 0.122038  [12800/60000]\n",
      "loss: 0.157295  [25600/60000]\n",
      "loss: 0.131664  [38400/60000]\n",
      "loss: 0.152615  [51200/60000]\n",
      "Done!\n",
      "\n",
      "Using RMSprop\n",
      "Epoch 1: \n",
      "loss: 2.311520  [    0/60000]\n",
      "loss: 0.300970  [12800/60000]\n",
      "loss: 0.218510  [25600/60000]\n",
      "loss: 0.257979  [38400/60000]\n",
      "loss: 0.305381  [51200/60000]\n",
      "Epoch 2: \n",
      "loss: 0.182594  [    0/60000]\n",
      "loss: 0.182137  [12800/60000]\n",
      "loss: 0.182870  [25600/60000]\n",
      "loss: 0.195652  [38400/60000]\n",
      "loss: 0.284389  [51200/60000]\n",
      "Epoch 3: \n",
      "loss: 0.134611  [    0/60000]\n",
      "loss: 0.190848  [12800/60000]\n",
      "loss: 0.181669  [25600/60000]\n",
      "loss: 0.114205  [38400/60000]\n",
      "loss: 0.272705  [51200/60000]\n",
      "Epoch 4: \n",
      "loss: 0.119489  [    0/60000]\n",
      "loss: 0.223549  [12800/60000]\n",
      "loss: 0.201534  [25600/60000]\n",
      "loss: 0.170522  [38400/60000]\n",
      "loss: 0.314640  [51200/60000]\n",
      "Epoch 5: \n",
      "loss: 0.076475  [    0/60000]\n",
      "loss: 0.243335  [12800/60000]\n",
      "loss: 0.115802  [25600/60000]\n",
      "loss: 0.175700  [38400/60000]\n",
      "loss: 0.214975  [51200/60000]\n",
      "Done!\n",
      "\n"
     ]
    }
   ],
   "source": [
    "his = [[] for _ in range(num_opts)]\n",
    "for i in range(num_opts):\n",
    "    print(f\"Using {optimizers[i].__name__}\")\n",
    "    for t in range(epochs):\n",
    "        print(f\"Epoch {t+1}: \")\n",
    "        \n",
    "        loss = train(\n",
    "            train_dataloader,\n",
    "            models[i],\n",
    "            loss_fn,\n",
    "            optimizers[i](models[i].parameters(), lr=lrs[i]))\n",
    "\n",
    "        his[i].append(loss)\n",
    "\n",
    "    print(\"Done!\\n\")"
   ]
  },
  {
   "cell_type": "code",
   "execution_count": 11,
   "metadata": {},
   "outputs": [],
   "source": [
    "for i in range(num_opts):\n",
    "    his[i] = torch.tensor(his[i]).reshape(-1)"
   ]
  },
  {
   "cell_type": "markdown",
   "metadata": {},
   "source": [
    "## Using L2O Optimizer"
   ]
  },
  {
   "cell_type": "code",
   "execution_count": 12,
   "metadata": {},
   "outputs": [],
   "source": [
    "from models.optim_nets import lstm_l2o_optimizer   \n",
    "from trainUtil import init_hidden, zero_gradients"
   ]
  },
  {
   "cell_type": "code",
   "execution_count": 13,
   "metadata": {},
   "outputs": [
    {
     "data": {
      "text/plain": [
       "lstm_l2o_optimizer(\n",
       "  (LSTM): LSTM(1, 24, num_layers=2)\n",
       "  (linear): Linear(in_features=24, out_features=1, bias=True)\n",
       ")"
      ]
     },
     "execution_count": 13,
     "metadata": {},
     "output_type": "execute_result"
    }
   ],
   "source": [
    "l2o_optimizer = lstm_l2o_optimizer().to(device)\n",
    "l2o_optimizer.load_state_dict(torch.load(\"trained_model/l2o_optimizer.pth\"))\n",
    "l2o_optimizer.eval()"
   ]
  },
  {
   "cell_type": "code",
   "execution_count": 14,
   "metadata": {},
   "outputs": [],
   "source": [
    "def update_weights(model, update_fn, hidden):\n",
    "    with torch.no_grad():\n",
    "        for m_key in model._modules:\n",
    "            m1 = model._modules[m_key]\n",
    "            h_module = hidden[m_key]\n",
    "            for p_key in m1._parameters:\n",
    "                \n",
    "                grad_in = m1._parameters[p_key].grad.reshape(1, -1, 1)\n",
    "\n",
    "                update, h_module[p_key] = update_fn(grad_in, h_module[p_key])        \n",
    "                update = update.reshape(m1._parameters[p_key].shape)\n",
    "                \n",
    "                m1._parameters[p_key] -= update "
   ]
  },
  {
   "cell_type": "code",
   "execution_count": 15,
   "metadata": {},
   "outputs": [],
   "source": [
    "def train_with_l2o(dataloader, model, loss_fn, l2o_optimizer):\n",
    "    h = init_hidden(model)\n",
    "    size = len(dataloader.dataset)\n",
    "    history = []\n",
    "    model.train()\n",
    "    for batch, (X, y) in enumerate(train_dataloader):\n",
    "        # Preprocessing\n",
    "        X, y = X.to(device), y.to(device)\n",
    "\n",
    "        # Forward Pass\n",
    "        pred = model(X)\n",
    "        loss = loss_fn(pred, y)\n",
    "\n",
    "        # Backprop\n",
    "        zero_gradients(model)\n",
    "        loss.backward()\n",
    "        update_weights(model, l2o_optimizer, h)\n",
    "\n",
    "        loss = loss.item()\n",
    "\n",
    "        if batch % output_step == 0:\n",
    "            current = batch * len(X)\n",
    "            print(f\"loss: {loss:>7f}  [{current:>5d}/{size:>5d}]\")\n",
    "            \n",
    "\n",
    "        if batch % history_step == 0:\n",
    "            history.append(loss)\n",
    "\n",
    "    return history"
   ]
  },
  {
   "cell_type": "code",
   "execution_count": 16,
   "metadata": {},
   "outputs": [
    {
     "name": "stdout",
     "output_type": "stream",
     "text": [
      "Epoch: 1\n",
      "loss: 2.311520  [    0/60000]\n",
      "loss: 0.905169  [12800/60000]\n",
      "loss: 0.364039  [25600/60000]\n",
      "loss: 0.434637  [38400/60000]\n",
      "loss: 0.415726  [51200/60000]\n",
      "Epoch: 2\n",
      "loss: 0.282345  [    0/60000]\n",
      "loss: 0.244389  [12800/60000]\n",
      "loss: 0.216257  [25600/60000]\n",
      "loss: 0.270898  [38400/60000]\n",
      "loss: 0.290365  [51200/60000]\n",
      "Epoch: 3\n",
      "loss: 0.163452  [    0/60000]\n",
      "loss: 0.162398  [12800/60000]\n",
      "loss: 0.163639  [25600/60000]\n",
      "loss: 0.213950  [38400/60000]\n",
      "loss: 0.235117  [51200/60000]\n",
      "Epoch: 4\n",
      "loss: 0.124920  [    0/60000]\n",
      "loss: 0.124383  [12800/60000]\n",
      "loss: 0.133632  [25600/60000]\n",
      "loss: 0.184839  [38400/60000]\n",
      "loss: 0.204873  [51200/60000]\n",
      "Epoch: 5\n",
      "loss: 0.097024  [    0/60000]\n",
      "loss: 0.108154  [12800/60000]\n",
      "loss: 0.116090  [25600/60000]\n",
      "loss: 0.163894  [38400/60000]\n",
      "loss: 0.192298  [51200/60000]\n"
     ]
    }
   ],
   "source": [
    "l2o_hist = []\n",
    "for i in range(epochs):\n",
    "    print(f\"Epoch: {i + 1}\")\n",
    "    loss = train_with_l2o(\n",
    "        train_dataloader,\n",
    "        model_for_l2o,\n",
    "        loss_fn,\n",
    "        l2o_optimizer)\n",
    "\n",
    "    l2o_hist.append(loss)\n"
   ]
  },
  {
   "cell_type": "markdown",
   "metadata": {},
   "source": [
    "## Training with GNN optimizer"
   ]
  },
  {
   "cell_type": "code",
   "execution_count": 23,
   "metadata": {},
   "outputs": [],
   "source": [
    "from models.optim_nets import gnn_l2o_optimizer\n",
    "from trainUtil import zero_gradients\n",
    "from graphUtil import nodes_to_network, network_to_edge, network_to_nodes"
   ]
  },
  {
   "cell_type": "code",
   "execution_count": 24,
   "metadata": {},
   "outputs": [
    {
     "data": {
      "text/plain": [
       "gnn_l2o_optimizer(\n",
       "  (LSTM): LSTM(1, 24)\n",
       "  (graph_conv): GCNConv(24, 24)\n",
       "  (linear): Linear(in_features=24, out_features=1, bias=True)\n",
       ")"
      ]
     },
     "execution_count": 24,
     "metadata": {},
     "output_type": "execute_result"
    }
   ],
   "source": [
    "gnn_optimizer = gnn_l2o_optimizer().to(device)\n",
    "gnn_optimizer.load_state_dict(torch.load(\"trained_model/gnn_optimizer.pth\"))\n",
    "gnn_optimizer.eval()"
   ]
  },
  {
   "cell_type": "code",
   "execution_count": 25,
   "metadata": {},
   "outputs": [],
   "source": [
    "edge_index = network_to_edge([28 * 28, 32, 32, 10]).to(device)"
   ]
  },
  {
   "cell_type": "code",
   "execution_count": 44,
   "metadata": {},
   "outputs": [],
   "source": [
    "def update_weights_gnn(model, update_fn, hidden):\n",
    "    \n",
    "    with torch.no_grad():\n",
    "        # This parts create update dictionary using gradients and gnn l2o optimizer\n",
    "        graph_x = network_to_nodes(model, device)\n",
    "        update, hidden = update_fn(graph_x, hidden, edge_index)\n",
    "        update = nodes_to_network(model, update)\n",
    "\n",
    "        for m_key in model._modules:\n",
    "            m1 = model._modules[m_key]\n",
    "            update_module = update[m_key]\n",
    "            for p_key in m1._parameters:\n",
    "                m1._parameters[p_key] -= update_module[p_key]\n",
    "    \n",
    "    return hidden"
   ]
  },
  {
   "cell_type": "code",
   "execution_count": 45,
   "metadata": {},
   "outputs": [],
   "source": [
    "def train_with_gnn(dataloader, model, loss_fn, gnn_optimizer):\n",
    "    h = None\n",
    "    size = len(dataloader.dataset)\n",
    "    history = []\n",
    "    model.train()\n",
    "    for batch, (X, y) in enumerate(train_dataloader):\n",
    "        # Preprocessing\n",
    "        X, y = X.to(device), y.to(device)\n",
    "\n",
    "        # Forward Pass\n",
    "        pred = model(X)\n",
    "        loss = loss_fn(pred, y)\n",
    "\n",
    "        # Backprop\n",
    "        zero_gradients(model)\n",
    "        loss.backward()\n",
    "        \n",
    "        h = update_weights_gnn(model, gnn_optimizer, h)\n",
    "\n",
    "        loss = loss.item()\n",
    "\n",
    "        if batch % output_step == 0:\n",
    "            current = batch * len(X)\n",
    "            print(f\"loss: {loss:>7f}  [{current:>5d}/{size:>5d}]\")\n",
    "            \n",
    "\n",
    "        if batch % history_step == 0:\n",
    "            history.append(loss)\n",
    "\n",
    "    return history"
   ]
  },
  {
   "cell_type": "code",
   "execution_count": 46,
   "metadata": {},
   "outputs": [
    {
     "name": "stdout",
     "output_type": "stream",
     "text": [
      "Epoch: 1\n",
      "loss: 2.311520  [    0/60000]\n",
      "loss: 0.942749  [12800/60000]\n",
      "loss: 0.372659  [25600/60000]\n",
      "loss: 0.443263  [38400/60000]\n",
      "loss: 0.416130  [51200/60000]\n",
      "Epoch: 2\n",
      "loss: 0.301622  [    0/60000]\n",
      "loss: 0.251040  [12800/60000]\n",
      "loss: 0.221565  [25600/60000]\n",
      "loss: 0.280308  [38400/60000]\n",
      "loss: 0.283954  [51200/60000]\n",
      "Epoch: 3\n",
      "loss: 0.181947  [    0/60000]\n",
      "loss: 0.166099  [12800/60000]\n",
      "loss: 0.168046  [25600/60000]\n",
      "loss: 0.222727  [38400/60000]\n",
      "loss: 0.223690  [51200/60000]\n",
      "Epoch: 4\n",
      "loss: 0.134322  [    0/60000]\n",
      "loss: 0.127641  [12800/60000]\n",
      "loss: 0.135149  [25600/60000]\n",
      "loss: 0.188863  [38400/60000]\n",
      "loss: 0.191641  [51200/60000]\n",
      "Epoch: 5\n",
      "loss: 0.104077  [    0/60000]\n",
      "loss: 0.104032  [12800/60000]\n",
      "loss: 0.116986  [25600/60000]\n",
      "loss: 0.166628  [38400/60000]\n",
      "loss: 0.178449  [51200/60000]\n"
     ]
    }
   ],
   "source": [
    "gnn_hist = []\n",
    "for i in range(epochs):\n",
    "    print(f\"Epoch: {i + 1}\")\n",
    "    loss = train_with_gnn(\n",
    "        train_dataloader,\n",
    "        model_for_gnn,\n",
    "        loss_fn,\n",
    "        gnn_optimizer)\n",
    "\n",
    "    gnn_hist.append(loss)\n"
   ]
  },
  {
   "cell_type": "markdown",
   "metadata": {},
   "source": [
    "### Plotting Results"
   ]
  },
  {
   "cell_type": "code",
   "execution_count": 47,
   "metadata": {},
   "outputs": [],
   "source": [
    "from matplotlib import pyplot as plt"
   ]
  },
  {
   "cell_type": "code",
   "execution_count": 48,
   "metadata": {},
   "outputs": [],
   "source": [
    "l2o_hist = torch.tensor(l2o_hist).reshape(-1)\n",
    "his.append(l2o_hist)\n",
    "\n",
    "gnn_hist = torch.tensor(gnn_hist).reshape(-1)\n",
    "his.append(gnn_hist)"
   ]
  },
  {
   "cell_type": "code",
   "execution_count": 49,
   "metadata": {},
   "outputs": [],
   "source": [
    "names = [optimizers[i].__name__ for i in range(num_opts)]\n",
    "names.append(\"L2O-LSTM\")\n",
    "names.append(\"GNN-LSTM\")"
   ]
  },
  {
   "cell_type": "code",
   "execution_count": 50,
   "metadata": {},
   "outputs": [
    {
     "data": {
      "image/png": "[encoded data removed]",
      "text/plain": [
       "<Figure size 432x288 with 1 Axes>"
      ]
     },
     "metadata": {
      "needs_background": "light"
     },
     "output_type": "display_data"
    }
   ],
   "source": [
    "plt.xlabel('Training Steps')\n",
    "plt.ylabel('Training Loss')\n",
    "plt.title('Comparing Training using Different Optimizers')\n",
    "for i in range(num_opts + 2):\n",
    "    plt.plot(his[i], label=names[i])\n",
    "\n",
    "plt.legend(loc=\"upper left\")\n",
    "plt.show()"
   ]
  },
  {
   "cell_type": "code",
   "execution_count": null,
   "metadata": {},
   "outputs": [],
   "source": []
  }
 ],
 "metadata": {
  "kernelspec": {
   "display_name": "Python 3.10.4 64-bit",
   "language": "python",
   "name": "python3"
  },
  "language_info": {
   "codemirror_mode": {
    "name": "ipython",
    "version": 3
   },
   "file_extension": ".py",
   "mimetype": "text/x-python",
   "name": "python",
   "nbconvert_exporter": "python",
   "pygments_lexer": "ipython3",
   "version": "3.10.4"
  },
  "orig_nbformat": 4,
  "vscode": {
   "interpreter": {
    "hash": "369f2c481f4da34e4445cda3fffd2e751bd1c4d706f27375911949ba6bb62e1c"
   }
  }
 },
 "nbformat": 4,
 "nbformat_minor": 2
}
