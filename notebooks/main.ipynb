{
 "cells": [
  {
   "cell_type": "markdown",
   "metadata": {},
   "source": [
    "## Main"
   ]
  },
  {
   "cell_type": "markdown",
   "metadata": {},
   "source": [
    "Compares training methods, generates graph"
   ]
  },
  {
   "cell_type": "markdown",
   "metadata": {},
   "source": [
    "### Imports and Setup"
   ]
  },
  {
   "cell_type": "code",
   "execution_count": 1,
   "metadata": {},
   "outputs": [
    {
     "name": "stdout",
     "output_type": "stream",
     "text": [
      "using cuda\n"
     ]
    },
    {
     "name": "stderr",
     "output_type": "stream",
     "text": [
      "c:\\Python310\\lib\\site-packages\\tqdm\\auto.py:22: TqdmWarning: IProgress not found. Please update jupyter and ipywidgets. See https://ipywidgets.readthedocs.io/en/stable/user_install.html\n",
      "  from .autonotebook import tqdm as notebook_tqdm\n"
     ]
    }
   ],
   "source": [
    "import torch\n",
    "from torch import nn\n",
    "from torch.utils.data import DataLoader\n",
    "from torchvision import datasets\n",
    "from torchvision.transforms import ToTensor\n",
    "\n",
    "from models import simple_testing_NN\n",
    "\n",
    "device = \"cuda\" if torch.cuda.is_available() else \"cpu\"\n",
    "print(f\"using {device}\")"
   ]
  },
  {
   "cell_type": "code",
   "execution_count": 2,
   "metadata": {},
   "outputs": [],
   "source": [
    "# Download training data from open datasets.\n",
    "training_data = datasets.MNIST(\n",
    "    root=\"data\",\n",
    "    train=True,\n",
    "    download=True,\n",
    "    transform=ToTensor(),\n",
    ")\n",
    "\n",
    "# Download test data from open datasets.\n",
    "test_data = datasets.MNIST(\n",
    "    root=\"data\",\n",
    "    train=False,\n",
    "    download=True,\n",
    "    transform=ToTensor(),\n",
    ")"
   ]
  },
  {
   "cell_type": "code",
   "execution_count": 3,
   "metadata": {},
   "outputs": [],
   "source": [
    "# Hyperparameters\n",
    "\n",
    "batch_size = 128\n",
    "epochs = 10"
   ]
  },
  {
   "cell_type": "code",
   "execution_count": 4,
   "metadata": {},
   "outputs": [
    {
     "name": "stdout",
     "output_type": "stream",
     "text": [
      "Number of batches: 469\n"
     ]
    }
   ],
   "source": [
    "# Create data loaders.\n",
    "train_dataloader = DataLoader(training_data, batch_size=batch_size)\n",
    "test_dataloader = DataLoader(test_data, batch_size=batch_size)\n",
    "\n",
    "print(f\"Number of batches: {len(train_dataloader)}\")"
   ]
  },
  {
   "cell_type": "markdown",
   "metadata": {},
   "source": [
    "### Model"
   ]
  },
  {
   "cell_type": "code",
   "execution_count": 5,
   "metadata": {},
   "outputs": [],
   "source": [
    "optimizers = [\n",
    "    torch.optim.SGD,\n",
    "    torch.optim.Adam,\n",
    "    torch.optim.RMSprop\n",
    "]\n",
    "\n",
    "lrs = [0.01, 0.001, 0.01]\n",
    "\n",
    "num_opts = len(optimizers)"
   ]
  },
  {
   "cell_type": "code",
   "execution_count": 6,
   "metadata": {},
   "outputs": [],
   "source": [
    "from copy import deepcopy\n",
    "model = simple_testing_NN().to(device)\n",
    "models = [deepcopy(model) for _ in range(num_opts)]"
   ]
  },
  {
   "cell_type": "code",
   "execution_count": 7,
   "metadata": {},
   "outputs": [],
   "source": [
    "loss_fn = nn.CrossEntropyLoss()"
   ]
  },
  {
   "cell_type": "code",
   "execution_count": 8,
   "metadata": {},
   "outputs": [],
   "source": [
    "def train(dataloader, model, loss_fn, optimizer):\n",
    "    size = len(dataloader.dataset)\n",
    "    history = []\n",
    "    model.train()\n",
    "    for batch, (X, y) in enumerate(dataloader):\n",
    "        X, y = X.to(device), y.to(device)\n",
    "\n",
    "        # Compute prediction error\n",
    "        pred = model(X)\n",
    "        loss = loss_fn(pred, y)\n",
    "\n",
    "        # Backpropagation\n",
    "        optimizer.zero_grad()\n",
    "        loss.backward()\n",
    "        optimizer.step()\n",
    "\n",
    "        if batch % 100 == 0:\n",
    "            loss, current = loss.item(), batch * len(X)\n",
    "            # print(f\"loss: {loss:>7f}  [{current:>5d}/{size:>5d}]\")\n",
    "            history.append(loss)\n",
    "    return history"
   ]
  },
  {
   "cell_type": "code",
   "execution_count": 9,
   "metadata": {},
   "outputs": [],
   "source": [
    "def test(dataloader, model, loss_fn):\n",
    "    size = len(dataloader.dataset)\n",
    "    num_batches = len(dataloader)\n",
    "    model.eval()\n",
    "    test_loss, correct = 0, 0\n",
    "    with torch.no_grad():\n",
    "        for X, y in dataloader:\n",
    "            X, y = X.to(device), y.to(device)\n",
    "            pred = model(X)\n",
    "            test_loss += loss_fn(pred, y).item()\n",
    "            correct += (pred.argmax(1) == y).type(torch.float).sum().item()\n",
    "    test_loss /= num_batches\n",
    "    correct /= size\n",
    "    print(f\"Test Error: Accuracy: {(100*correct):>0.1f}%, Avg loss: {test_loss:>8f}\")"
   ]
  },
  {
   "cell_type": "code",
   "execution_count": 10,
   "metadata": {},
   "outputs": [
    {
     "name": "stdout",
     "output_type": "stream",
     "text": [
      "Using SGD\n",
      "Epoch 1: \n",
      "Test Error: Accuracy: 60.0%, Avg loss: 1.856903\n",
      "Epoch 2: \n",
      "Test Error: Accuracy: 81.9%, Avg loss: 0.772197\n",
      "Epoch 3: \n",
      "Test Error: Accuracy: 86.6%, Avg loss: 0.508226\n",
      "Epoch 4: \n",
      "Test Error: Accuracy: 88.4%, Avg loss: 0.419774\n",
      "Epoch 5: \n",
      "Test Error: Accuracy: 89.2%, Avg loss: 0.376051\n",
      "Epoch 6: \n",
      "Test Error: Accuracy: 89.8%, Avg loss: 0.349440\n",
      "Epoch 7: \n",
      "Test Error: Accuracy: 90.4%, Avg loss: 0.330859\n",
      "Epoch 8: \n",
      "Test Error: Accuracy: 90.7%, Avg loss: 0.316792\n",
      "Epoch 9: \n",
      "Test Error: Accuracy: 91.1%, Avg loss: 0.305423\n",
      "Epoch 10: \n",
      "Test Error: Accuracy: 91.3%, Avg loss: 0.295769\n",
      "Done!\n",
      "\n",
      "Using Adam\n",
      "Epoch 1: \n",
      "Test Error: Accuracy: 92.4%, Avg loss: 0.256625\n",
      "Epoch 2: \n",
      "Test Error: Accuracy: 93.9%, Avg loss: 0.194758\n",
      "Epoch 3: \n",
      "Test Error: Accuracy: 95.4%, Avg loss: 0.149978\n",
      "Epoch 4: \n",
      "Test Error: Accuracy: 96.0%, Avg loss: 0.128060\n",
      "Epoch 5: \n",
      "Test Error: Accuracy: 96.7%, Avg loss: 0.110809\n",
      "Epoch 6: \n",
      "Test Error: Accuracy: 96.8%, Avg loss: 0.104223\n",
      "Epoch 7: \n",
      "Test Error: Accuracy: 97.0%, Avg loss: 0.099511\n",
      "Epoch 8: \n",
      "Test Error: Accuracy: 97.0%, Avg loss: 0.096429\n",
      "Epoch 9: \n",
      "Test Error: Accuracy: 97.1%, Avg loss: 0.096525\n",
      "Epoch 10: \n",
      "Test Error: Accuracy: 97.1%, Avg loss: 0.098625\n",
      "Done!\n",
      "\n",
      "Using RMSprop\n",
      "Epoch 1: \n",
      "Test Error: Accuracy: 84.9%, Avg loss: 0.613644\n",
      "Epoch 2: \n",
      "Test Error: Accuracy: 80.0%, Avg loss: 0.883650\n",
      "Epoch 3: \n",
      "Test Error: Accuracy: 93.3%, Avg loss: 0.250590\n",
      "Epoch 4: \n",
      "Test Error: Accuracy: 94.3%, Avg loss: 0.215001\n",
      "Epoch 5: \n",
      "Test Error: Accuracy: 93.3%, Avg loss: 0.276090\n",
      "Epoch 6: \n",
      "Test Error: Accuracy: 94.4%, Avg loss: 0.212611\n",
      "Epoch 7: \n",
      "Test Error: Accuracy: 94.3%, Avg loss: 0.236069\n",
      "Epoch 8: \n",
      "Test Error: Accuracy: 95.0%, Avg loss: 0.218943\n",
      "Epoch 9: \n",
      "Test Error: Accuracy: 95.4%, Avg loss: 0.211335\n",
      "Epoch 10: \n",
      "Test Error: Accuracy: 95.6%, Avg loss: 0.203464\n",
      "Done!\n",
      "\n"
     ]
    }
   ],
   "source": [
    "his = [[] for _ in range(num_opts)]\n",
    "for i in range(num_opts):\n",
    "    print(f\"Using {optimizers[i].__name__}\")\n",
    "    for t in range(epochs):\n",
    "        print(f\"Epoch {t+1}: \")\n",
    "        \n",
    "        loss = train(\n",
    "            train_dataloader,\n",
    "            models[i],\n",
    "            loss_fn,\n",
    "            optimizers[i](models[i].parameters(), lr=lrs[i]))\n",
    "\n",
    "        his[i].append(loss)\n",
    "        test(test_dataloader, models[i], loss_fn)\n",
    "\n",
    "    print(\"Done!\\n\")\n"
   ]
  },
  {
   "cell_type": "code",
   "execution_count": 11,
   "metadata": {},
   "outputs": [],
   "source": [
    "for i in range(num_opts):\n",
    "    his[i] = torch.tensor(his[i]).reshape(-1)"
   ]
  },
  {
   "cell_type": "markdown",
   "metadata": {},
   "source": [
    "### Plotting Results"
   ]
  },
  {
   "cell_type": "code",
   "execution_count": 12,
   "metadata": {},
   "outputs": [],
   "source": [
    "from matplotlib import pyplot as plt"
   ]
  },
  {
   "cell_type": "code",
   "execution_count": 13,
   "metadata": {},
   "outputs": [
    {
     "data": {
      "image/png": "[encoded data removed]",
      "text/plain": [
       "<Figure size 432x288 with 1 Axes>"
      ]
     },
     "metadata": {
      "needs_background": "light"
     },
     "output_type": "display_data"
    }
   ],
   "source": [
    "plt.xlabel('Training Steps')\n",
    "plt.ylabel('Training Loss')\n",
    "plt.title('Comparing Training using Different Optimizers')\n",
    "for i in range(num_opts):\n",
    "    plt.plot(his[i], label=optimizers[i].__name__)\n",
    "\n",
    "plt.legend(loc=\"upper left\")\n",
    "plt.show()"
   ]
  },
  {
   "cell_type": "code",
   "execution_count": null,
   "metadata": {},
   "outputs": [],
   "source": []
  }
 ],
 "metadata": {
  "kernelspec": {
   "display_name": "Python 3.10.4 64-bit",
   "language": "python",
   "name": "python3"
  },
  "language_info": {
   "codemirror_mode": {
    "name": "ipython",
    "version": 3
   },
   "file_extension": ".py",
   "mimetype": "text/x-python",
   "name": "python",
   "nbconvert_exporter": "python",
   "pygments_lexer": "ipython3",
   "version": "3.10.4"
  },
  "orig_nbformat": 4,
  "vscode": {
   "interpreter": {
    "hash": "369f2c481f4da34e4445cda3fffd2e751bd1c4d706f27375911949ba6bb62e1c"
   }
  }
 },
 "nbformat": 4,
 "nbformat_minor": 2
}
