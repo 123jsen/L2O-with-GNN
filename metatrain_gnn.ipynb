{
 "cells": [
  {
   "cell_type": "code",
   "execution_count": 1,
   "metadata": {},
   "outputs": [],
   "source": [
    "import torch\n",
    "from torch import nn\n",
    "from torch.utils.data import DataLoader\n",
    "\n",
    "from torchvision import datasets\n",
    "from torchvision.transforms import ToTensor\n",
    "\n",
    "from models.optim_nets import gnn_l2o_optimizer\n",
    "from models.mnist_nets import class_net\n",
    "from graphUtil import network_to_edge, network_to_nodes, nodes_to_network\n",
    "from trainUtil import init_sequence, reset_model_computational_graph, zero_gradients"
   ]
  },
  {
   "cell_type": "code",
   "execution_count": 2,
   "metadata": {},
   "outputs": [
    {
     "name": "stdout",
     "output_type": "stream",
     "text": [
      "Using cuda device\n"
     ]
    }
   ],
   "source": [
    "# Get cpu or gpu device for training.\n",
    "device = \"cuda\" if torch.cuda.is_available() else \"cpu\"\n",
    "print(f\"Using {device} device\")"
   ]
  },
  {
   "cell_type": "code",
   "execution_count": 3,
   "metadata": {},
   "outputs": [],
   "source": [
    "# Constants\n",
    "in_size = 28 * 28\n",
    "out_size = 10"
   ]
  },
  {
   "cell_type": "code",
   "execution_count": 4,
   "metadata": {},
   "outputs": [],
   "source": [
    "## Meta-Hyperparameters\n",
    "num_optimizee = 8\n",
    "unroll_len = 25"
   ]
  },
  {
   "cell_type": "code",
   "execution_count": 5,
   "metadata": {},
   "outputs": [],
   "source": [
    "## Hyperparameters\n",
    "batch_size = 128\n",
    "num_epochs = 1"
   ]
  },
  {
   "cell_type": "code",
   "execution_count": 6,
   "metadata": {},
   "outputs": [],
   "source": [
    "## Optimizer Model\n",
    "update_fn = gnn_l2o_optimizer().to(device)\n",
    "meta_optimizer = torch.optim.Adam(update_fn.parameters(), lr=0.01)\n",
    "loss_fn = nn.CrossEntropyLoss()"
   ]
  },
  {
   "cell_type": "code",
   "execution_count": 7,
   "metadata": {},
   "outputs": [],
   "source": [
    "# Download training data from open datasets.\n",
    "training_data = datasets.MNIST(\n",
    "    root=\"data\",\n",
    "    train=True,\n",
    "    download=True,\n",
    "    transform=ToTensor(),\n",
    ")\n",
    "\n",
    "# Download test data from open datasets.\n",
    "test_data = datasets.MNIST(\n",
    "    root=\"data\",\n",
    "    train=False,\n",
    "    download=True,\n",
    "    transform=ToTensor(),\n",
    ")"
   ]
  },
  {
   "cell_type": "code",
   "execution_count": 8,
   "metadata": {},
   "outputs": [
    {
     "name": "stdout",
     "output_type": "stream",
     "text": [
      "Shape of X [N, C, H, W]: torch.Size([128, 1, 28, 28])\n",
      "Shape of y: torch.Size([128]) torch.int64\n",
      "Number of batches: 469\n"
     ]
    }
   ],
   "source": [
    "# Create data loaders.\n",
    "train_dataloader = DataLoader(training_data, batch_size=batch_size)\n",
    "test_dataloader = DataLoader(test_data, batch_size=batch_size)\n",
    "\n",
    "for X, y in test_dataloader:\n",
    "    print(f\"Shape of X [N, C, H, W]: {X.shape}\")\n",
    "    print(f\"Shape of y: {y.shape} {y.dtype}\")\n",
    "    break\n",
    "\n",
    "from math import ceil\n",
    "\n",
    "num_batches = ceil(len(training_data) / batch_size)\n",
    "print(f\"Number of batches: {num_batches}\")"
   ]
  },
  {
   "cell_type": "code",
   "execution_count": 9,
   "metadata": {},
   "outputs": [],
   "source": [
    "models_t = [None for _ in range(unroll_len)]\n",
    "models_t[0] = class_net(in_size, out_size).to(device)"
   ]
  },
  {
   "cell_type": "code",
   "execution_count": 10,
   "metadata": {},
   "outputs": [],
   "source": [
    "edge_index = network_to_edge([in_size, 32, out_size]).to(device)"
   ]
  },
  {
   "cell_type": "code",
   "execution_count": 11,
   "metadata": {},
   "outputs": [],
   "source": [
    "def init_hidden():\n",
    "    # Since we don't do updates individually for every parameter,\n",
    "    # hidden weights become a simple vector tensor.\n",
    "    return None"
   ]
  },
  {
   "cell_type": "code",
   "execution_count": 12,
   "metadata": {},
   "outputs": [],
   "source": [
    "def update_optimizee_and_copy(old_model, new_model, hidden):\n",
    "    # This function is specific to GNN\n",
    "\n",
    "    # This parts create update dictionary using gradients and gnn l2o optimizer\n",
    "    graph_x = network_to_nodes(old_model, device)\n",
    "    update, hidden = update_fn(graph_x, hidden, edge_index)\n",
    "    update = nodes_to_network(old_model, update)\n",
    "\n",
    "    for m_key in old_model._modules:\n",
    "        m1, m2 = old_model._modules[m_key], new_model._modules[m_key]\n",
    "        update_m = update[m_key]\n",
    "        for p_key in m1._parameters:\n",
    "            m2._parameters[p_key] = m1._parameters[p_key].detach() - update_m[p_key] \n",
    "            m2._parameters[p_key].requires_grad_()\n",
    "            m2._parameters[p_key].retain_grad()\n",
    "    \n",
    "    return hidden"
   ]
  },
  {
   "cell_type": "code",
   "execution_count": 13,
   "metadata": {},
   "outputs": [],
   "source": [
    "def backprop_on_optimizer(total_loss):\n",
    "    # Outer Loop Backprop\n",
    "    meta_optimizer.zero_grad()\n",
    "    total_loss.backward()\n",
    "    meta_optimizer.step()"
   ]
  },
  {
   "cell_type": "code",
   "execution_count": 14,
   "metadata": {},
   "outputs": [],
   "source": [
    "def inner_pass(h, models_t):\n",
    "    total_loss = 0\n",
    "    for i, (X, y) in enumerate(train_dataloader):\n",
    "        iter = i % unroll_len\n",
    "\n",
    "        if (num_batches - i) < unroll_len:\n",
    "            # End prematurely if remaining batches not enough for unroll length\n",
    "            reset_model_computational_graph(models_t, class_net(in_size, out_size).to(device))\n",
    "\n",
    "            h = (h[0].detach(), h[1].detach())\n",
    "            h[0].requires_grad_()\n",
    "            h[1].requires_grad_()\n",
    "\n",
    "            break\n",
    "\n",
    "        # Preprocessing\n",
    "        X = X.reshape(-1, 28 * 28)\n",
    "        X, y = X.to(device), y.to(device)\n",
    "\n",
    "        # Forward Pass\n",
    "        pred = models_t[iter](X)\n",
    "        loss = loss_fn(pred, y)\n",
    "        total_loss = total_loss + loss\n",
    "\n",
    "        if (i % 125) == 0:\n",
    "            print(f\"Batch {i} / {num_batches}, Model loss: {loss}\")\n",
    "\n",
    "        if iter == unroll_len - 1:\n",
    "            backprop_on_optimizer(total_loss)\n",
    "            reset_model_computational_graph(models_t, class_net(in_size, out_size).to(device))\n",
    "\n",
    "            h = (h[0].detach(), h[1].detach())\n",
    "            h[0].requires_grad_()\n",
    "            h[1].requires_grad_()\n",
    "\n",
    "            total_loss = 0\n",
    "\n",
    "        else:\n",
    "            # Backprop\n",
    "            zero_gradients(models_t[iter])\n",
    "            loss.backward(retain_graph=True)\n",
    "            models_t[iter+1] = class_net(28*28, 10).to(device)  # Initialize a new model\n",
    "            h = update_optimizee_and_copy(\n",
    "                old_model=models_t[iter], new_model=models_t[iter+1], hidden=h)"
   ]
  },
  {
   "cell_type": "code",
   "execution_count": 15,
   "metadata": {},
   "outputs": [],
   "source": [
    "def outer_pass():\n",
    "    models_t = init_sequence(class_net(in_size, out_size).to(device), unroll_len)\n",
    "    h = init_hidden()\n",
    "    for epoch in range(num_epochs):\n",
    "        print(f\"Epoch {epoch}\")\n",
    "        inner_pass(h, models_t)"
   ]
  },
  {
   "cell_type": "markdown",
   "metadata": {},
   "source": [
    "### Main Loop"
   ]
  },
  {
   "cell_type": "code",
   "execution_count": 16,
   "metadata": {},
   "outputs": [
    {
     "name": "stdout",
     "output_type": "stream",
     "text": [
      "0-th optimizee\n",
      "Epoch 0\n",
      "Batch 0 / 469, Model loss: 2.3062479496002197\n",
      "Batch 125 / 469, Model loss: 0.6443569660186768\n",
      "Batch 250 / 469, Model loss: 0.447722852230072\n",
      "Batch 375 / 469, Model loss: 0.539147138595581\n",
      "1-th optimizee\n",
      "Epoch 0\n",
      "Batch 0 / 469, Model loss: 2.3038136959075928\n",
      "Batch 125 / 469, Model loss: 0.6394463181495667\n",
      "Batch 250 / 469, Model loss: 0.422126829624176\n",
      "Batch 375 / 469, Model loss: 0.2357214242219925\n",
      "2-th optimizee\n",
      "Epoch 0\n",
      "Batch 0 / 469, Model loss: 2.3147761821746826\n",
      "Batch 125 / 469, Model loss: 0.8287822604179382\n",
      "Batch 250 / 469, Model loss: 0.48535415530204773\n",
      "Batch 375 / 469, Model loss: 0.27261465787887573\n",
      "3-th optimizee\n",
      "Epoch 0\n",
      "Batch 0 / 469, Model loss: 2.324016571044922\n",
      "Batch 125 / 469, Model loss: 0.7085191011428833\n",
      "Batch 250 / 469, Model loss: 0.4544066786766052\n",
      "Batch 375 / 469, Model loss: 0.23968757688999176\n",
      "4-th optimizee\n",
      "Epoch 0\n",
      "Batch 0 / 469, Model loss: 2.286113739013672\n",
      "Batch 125 / 469, Model loss: 0.6588093042373657\n",
      "Batch 250 / 469, Model loss: 0.4346124529838562\n",
      "Batch 375 / 469, Model loss: 0.2484249770641327\n",
      "5-th optimizee\n",
      "Epoch 0\n",
      "Batch 0 / 469, Model loss: 2.301687479019165\n",
      "Batch 125 / 469, Model loss: 0.6589322090148926\n",
      "Batch 250 / 469, Model loss: 0.4401073455810547\n",
      "Batch 375 / 469, Model loss: 0.24144600331783295\n",
      "6-th optimizee\n",
      "Epoch 0\n",
      "Batch 0 / 469, Model loss: 2.303394317626953\n",
      "Batch 125 / 469, Model loss: 0.7159634828567505\n",
      "Batch 250 / 469, Model loss: 0.44195958971977234\n",
      "Batch 375 / 469, Model loss: 0.24383389949798584\n",
      "7-th optimizee\n",
      "Epoch 0\n",
      "Batch 0 / 469, Model loss: 2.3112258911132812\n",
      "Batch 125 / 469, Model loss: 0.7025483846664429\n",
      "Batch 250 / 469, Model loss: 0.44220006465911865\n",
      "Batch 375 / 469, Model loss: 0.24259448051452637\n"
     ]
    }
   ],
   "source": [
    "for count in range(num_optimizee):\n",
    "    print(f\"{count}-th optimizee\")\n",
    "    outer_pass()"
   ]
  },
  {
   "cell_type": "code",
   "execution_count": 17,
   "metadata": {},
   "outputs": [],
   "source": [
    "torch.save(update_fn.state_dict(), 'trained_model\\gnn_optimizer.pth')"
   ]
  }
 ],
 "metadata": {
  "kernelspec": {
   "display_name": "Python 3.10.4 64-bit",
   "language": "python",
   "name": "python3"
  },
  "language_info": {
   "codemirror_mode": {
    "name": "ipython",
    "version": 3
   },
   "file_extension": ".py",
   "mimetype": "text/x-python",
   "name": "python",
   "nbconvert_exporter": "python",
   "pygments_lexer": "ipython3",
   "version": "3.10.4"
  },
  "orig_nbformat": 4,
  "vscode": {
   "interpreter": {
    "hash": "369f2c481f4da34e4445cda3fffd2e751bd1c4d706f27375911949ba6bb62e1c"
   }
  }
 },
 "nbformat": 4,
 "nbformat_minor": 2
}
