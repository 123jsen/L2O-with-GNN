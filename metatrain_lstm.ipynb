{
 "cells": [
  {
   "cell_type": "markdown",
   "metadata": {},
   "source": [
    "# Purpose\n",
    "This code trains a classification network using the LSTM optimizer"
   ]
  },
  {
   "cell_type": "code",
   "execution_count": 1,
   "metadata": {},
   "outputs": [],
   "source": [
    "import torch\n",
    "from torch import nn\n",
    "from torch.utils.data import DataLoader\n",
    "\n",
    "from torchvision import datasets\n",
    "from torchvision.transforms import ToTensor\n",
    "\n",
    "from models.optim_nets import lstm_l2o_optimizer\n",
    "from models.mnist_nets import class_net\n",
    "from trainUtil import init_hidden, init_sequence, reset_model_computational_graph, reset_h_computational_graph, zero_gradients"
   ]
  },
  {
   "cell_type": "code",
   "execution_count": 2,
   "metadata": {},
   "outputs": [
    {
     "name": "stdout",
     "output_type": "stream",
     "text": [
      "Using cuda device\n"
     ]
    }
   ],
   "source": [
    "# Get cpu or gpu device for training.\n",
    "device = \"cuda\" if torch.cuda.is_available() else \"cpu\"\n",
    "print(f\"Using {device} device\")"
   ]
  },
  {
   "cell_type": "code",
   "execution_count": 3,
   "metadata": {},
   "outputs": [],
   "source": [
    "# Constants\n",
    "in_size = 28 * 28\n",
    "out_size = 10"
   ]
  },
  {
   "cell_type": "code",
   "execution_count": 4,
   "metadata": {},
   "outputs": [],
   "source": [
    "## Meta-Hyperparameters\n",
    "num_optimizee = 8\n",
    "unroll_len = 30"
   ]
  },
  {
   "cell_type": "code",
   "execution_count": 5,
   "metadata": {},
   "outputs": [],
   "source": [
    "## Hyperparameters\n",
    "batch_size = 128\n",
    "num_epochs = 2"
   ]
  },
  {
   "cell_type": "code",
   "execution_count": 6,
   "metadata": {},
   "outputs": [],
   "source": [
    "## Optimizer Model\n",
    "update_fn = lstm_l2o_optimizer().to(device)\n",
    "meta_optimizer = torch.optim.Adam(update_fn.parameters(), lr=0.01)"
   ]
  },
  {
   "cell_type": "code",
   "execution_count": 7,
   "metadata": {},
   "outputs": [],
   "source": [
    "# Download training data from open datasets.\n",
    "training_data = datasets.MNIST(\n",
    "    root=\"data\",\n",
    "    train=True,\n",
    "    download=True,\n",
    "    transform=ToTensor(),\n",
    ")\n",
    "\n",
    "# Download test data from open datasets.\n",
    "test_data = datasets.MNIST(\n",
    "    root=\"data\",\n",
    "    train=False,\n",
    "    download=True,\n",
    "    transform=ToTensor(),\n",
    ")"
   ]
  },
  {
   "cell_type": "code",
   "execution_count": 8,
   "metadata": {},
   "outputs": [
    {
     "name": "stdout",
     "output_type": "stream",
     "text": [
      "Shape of X [N, C, H, W]: torch.Size([128, 1, 28, 28])\n",
      "Shape of y: torch.Size([128]) torch.int64\n",
      "Number of batches: 469\n"
     ]
    }
   ],
   "source": [
    "# Create data loaders.\n",
    "train_dataloader = DataLoader(training_data, batch_size=batch_size)\n",
    "test_dataloader = DataLoader(test_data, batch_size=batch_size)\n",
    "\n",
    "for X, y in test_dataloader:\n",
    "    print(f\"Shape of X [N, C, H, W]: {X.shape}\")\n",
    "    print(f\"Shape of y: {y.shape} {y.dtype}\")\n",
    "    break\n",
    "\n",
    "from math import ceil\n",
    "\n",
    "num_batches = ceil(len(training_data) / batch_size)\n",
    "print(f\"Number of batches: {num_batches}\")"
   ]
  },
  {
   "cell_type": "code",
   "execution_count": 9,
   "metadata": {},
   "outputs": [],
   "source": [
    "models_t = [None for _ in range(unroll_len)]\n",
    "models_t[0] = class_net(in_size, out_size).to(device)"
   ]
  },
  {
   "cell_type": "code",
   "execution_count": 10,
   "metadata": {},
   "outputs": [],
   "source": [
    "loss_fn = nn.CrossEntropyLoss()"
   ]
  },
  {
   "cell_type": "markdown",
   "metadata": {},
   "source": [
    "### Useful Functions\n",
    "Defines useful functions for the main loop"
   ]
  },
  {
   "cell_type": "code",
   "execution_count": 11,
   "metadata": {},
   "outputs": [],
   "source": [
    "def update_optimizee_and_copy(old_model, new_model, hidden):\n",
    "    for m_key in old_model._modules:\n",
    "        m1, m2 = old_model._modules[m_key], new_model._modules[m_key]\n",
    "        h_module = hidden[m_key]\n",
    "        for p_key in m1._parameters:\n",
    "            # Shape for Batch input: (1, Num, 1)\n",
    "            # Shape for Hidden State: (1, Num, 24)\n",
    "            \n",
    "            grad_in = m1._parameters[p_key].grad.reshape(1, -1, 1)\n",
    "\n",
    "            update, h_module[p_key] = update_fn(grad_in, h_module[p_key])        \n",
    "            update = update.reshape(m1._parameters[p_key].shape)\n",
    "            \n",
    "            m2._parameters[p_key] = m1._parameters[p_key].detach() - update  \n",
    "            m2._parameters[p_key].requires_grad_()\n",
    "            m2._parameters[p_key].retain_grad()"
   ]
  },
  {
   "cell_type": "code",
   "execution_count": 12,
   "metadata": {},
   "outputs": [],
   "source": [
    "def backprop_on_optimizer(total_loss):\n",
    "    # Outer Loop Backprop\n",
    "    meta_optimizer.zero_grad()\n",
    "    total_loss.backward()\n",
    "    meta_optimizer.step()"
   ]
  },
  {
   "cell_type": "code",
   "execution_count": 13,
   "metadata": {},
   "outputs": [],
   "source": [
    "def inner_pass(h, models_t):\n",
    "    total_loss = 0\n",
    "    for i, (X, y) in enumerate(train_dataloader):\n",
    "        iter = i % unroll_len\n",
    "\n",
    "        if (num_batches - i) < unroll_len:\n",
    "            # End prematurely if remaining batches not enough for unroll length\n",
    "            reset_model_computational_graph(models_t, class_net(in_size, out_size).to(device))\n",
    "            reset_h_computational_graph(h)\n",
    "            break\n",
    "\n",
    "        # Preprocessing\n",
    "        X = X.reshape(-1, 28 * 28)\n",
    "        X, y = X.to(device), y.to(device)\n",
    "\n",
    "        # Forward Pass\n",
    "        pred = models_t[iter](X)\n",
    "        loss = loss_fn(pred, y)\n",
    "        total_loss = total_loss + loss\n",
    "\n",
    "        if (i % 125) == 0:\n",
    "            print(f\"Batch {i} / {num_batches}, Model loss: {loss}\")\n",
    "\n",
    "        if iter == unroll_len - 1:\n",
    "            backprop_on_optimizer(total_loss)\n",
    "            reset_model_computational_graph(models_t, class_net(in_size, out_size).to(device))\n",
    "            reset_h_computational_graph(h)\n",
    "            total_loss = 0\n",
    "\n",
    "        else:\n",
    "            # Backprop\n",
    "            zero_gradients(models_t[iter])\n",
    "            loss.backward(retain_graph=True)\n",
    "            models_t[iter+1] = class_net(28*28, 10).to(device)  # Initialize a new model\n",
    "            update_optimizee_and_copy(\n",
    "                old_model=models_t[iter], new_model=models_t[iter+1], hidden=h)"
   ]
  },
  {
   "cell_type": "code",
   "execution_count": 14,
   "metadata": {},
   "outputs": [],
   "source": [
    "def outer_pass():\n",
    "    models_t = init_sequence(class_net(in_size, out_size).to(device), unroll_len)\n",
    "    h = init_hidden(models_t[0])\n",
    "    for epoch in range(num_epochs):\n",
    "        print(f\"Epoch {epoch}\")\n",
    "        inner_pass(h, models_t)"
   ]
  },
  {
   "cell_type": "markdown",
   "metadata": {},
   "source": [
    "### Main Loop\n",
    "Executing the cells below to train the L2O optimizer for multiple epochs"
   ]
  },
  {
   "cell_type": "code",
   "execution_count": 15,
   "metadata": {},
   "outputs": [
    {
     "name": "stdout",
     "output_type": "stream",
     "text": [
      "0-th optimizee\n",
      "Epoch 0\n",
      "Batch 0 / 469, Model loss: 2.305630922317505\n",
      "Batch 125 / 469, Model loss: 0.4970718324184418\n",
      "Batch 250 / 469, Model loss: 0.40370437502861023\n",
      "Batch 375 / 469, Model loss: 0.2265973538160324\n",
      "Epoch 1\n",
      "Batch 0 / 469, Model loss: 0.3047919273376465\n",
      "Batch 125 / 469, Model loss: 0.3916887640953064\n",
      "Batch 250 / 469, Model loss: 0.36549749970436096\n",
      "Batch 375 / 469, Model loss: 0.22344301640987396\n",
      "1-th optimizee\n",
      "Epoch 0\n",
      "Batch 0 / 469, Model loss: 2.327016592025757\n",
      "Batch 125 / 469, Model loss: 0.5964174270629883\n",
      "Batch 250 / 469, Model loss: 0.4110364317893982\n",
      "Batch 375 / 469, Model loss: 0.24713413417339325\n",
      "Epoch 1\n",
      "Batch 0 / 469, Model loss: 0.2752189040184021\n",
      "Batch 125 / 469, Model loss: 0.36212649941444397\n",
      "Batch 250 / 469, Model loss: 0.3463933765888214\n",
      "Batch 375 / 469, Model loss: 0.19786228239536285\n",
      "2-th optimizee\n",
      "Epoch 0\n",
      "Batch 0 / 469, Model loss: 2.2753143310546875\n",
      "Batch 125 / 469, Model loss: 0.8720458745956421\n",
      "Batch 250 / 469, Model loss: 0.47295311093330383\n",
      "Batch 375 / 469, Model loss: 0.27606865763664246\n",
      "Epoch 1\n",
      "Batch 0 / 469, Model loss: 0.2907177805900574\n",
      "Batch 125 / 469, Model loss: 0.3755158483982086\n",
      "Batch 250 / 469, Model loss: 0.3531115651130676\n",
      "Batch 375 / 469, Model loss: 0.20131488144397736\n",
      "3-th optimizee\n",
      "Epoch 0\n",
      "Batch 0 / 469, Model loss: 2.3222689628601074\n",
      "Batch 125 / 469, Model loss: 0.8132042288780212\n",
      "Batch 250 / 469, Model loss: 0.44168198108673096\n",
      "Batch 375 / 469, Model loss: 0.2940566837787628\n",
      "Epoch 1\n",
      "Batch 0 / 469, Model loss: 0.28592196106910706\n",
      "Batch 125 / 469, Model loss: 0.37022286653518677\n",
      "Batch 250 / 469, Model loss: 0.34439560770988464\n",
      "Batch 375 / 469, Model loss: 0.21550878882408142\n",
      "4-th optimizee\n",
      "Epoch 0\n",
      "Batch 0 / 469, Model loss: 2.3143415451049805\n",
      "Batch 125 / 469, Model loss: 0.7063044905662537\n",
      "Batch 250 / 469, Model loss: 0.44164109230041504\n",
      "Batch 375 / 469, Model loss: 0.27395451068878174\n",
      "Epoch 1\n",
      "Batch 0 / 469, Model loss: 0.2901898920536041\n",
      "Batch 125 / 469, Model loss: 0.3738110065460205\n",
      "Batch 250 / 469, Model loss: 0.35437408089637756\n",
      "Batch 375 / 469, Model loss: 0.20454786717891693\n",
      "5-th optimizee\n",
      "Epoch 0\n",
      "Batch 0 / 469, Model loss: 2.3015058040618896\n",
      "Batch 125 / 469, Model loss: 0.7881948947906494\n",
      "Batch 250 / 469, Model loss: 0.44596990942955017\n",
      "Batch 375 / 469, Model loss: 0.2853318750858307\n",
      "Epoch 1\n",
      "Batch 0 / 469, Model loss: 0.2972165048122406\n",
      "Batch 125 / 469, Model loss: 0.39242836833000183\n",
      "Batch 250 / 469, Model loss: 0.3507483899593353\n",
      "Batch 375 / 469, Model loss: 0.20878368616104126\n",
      "6-th optimizee\n",
      "Epoch 0\n",
      "Batch 0 / 469, Model loss: 2.3102452754974365\n",
      "Batch 125 / 469, Model loss: 0.7087992429733276\n",
      "Batch 250 / 469, Model loss: 0.42737337946891785\n",
      "Batch 375 / 469, Model loss: 0.2809610068798065\n",
      "Epoch 1\n",
      "Batch 0 / 469, Model loss: 0.28204962611198425\n",
      "Batch 125 / 469, Model loss: 0.374652624130249\n",
      "Batch 250 / 469, Model loss: 0.34068578481674194\n",
      "Batch 375 / 469, Model loss: 0.21667766571044922\n",
      "7-th optimizee\n",
      "Epoch 0\n",
      "Batch 0 / 469, Model loss: 2.292243719100952\n",
      "Batch 125 / 469, Model loss: 0.6969202756881714\n",
      "Batch 250 / 469, Model loss: 0.4402877986431122\n",
      "Batch 375 / 469, Model loss: 0.272140234708786\n",
      "Epoch 1\n",
      "Batch 0 / 469, Model loss: 0.28875532746315\n",
      "Batch 125 / 469, Model loss: 0.38038700819015503\n",
      "Batch 250 / 469, Model loss: 0.33705729246139526\n",
      "Batch 375 / 469, Model loss: 0.20758937299251556\n"
     ]
    }
   ],
   "source": [
    "for count in range(num_optimizee):\n",
    "    print(f\"{count}-th optimizee\")\n",
    "    outer_pass()"
   ]
  },
  {
   "cell_type": "code",
   "execution_count": 16,
   "metadata": {},
   "outputs": [],
   "source": [
    "torch.save(update_fn.state_dict(), 'trained_model\\l2o_optimizer.pth')"
   ]
  }
 ],
 "metadata": {
  "kernelspec": {
   "display_name": "Python 3.10.4 64-bit",
   "language": "python",
   "name": "python3"
  },
  "language_info": {
   "codemirror_mode": {
    "name": "ipython",
    "version": 3
   },
   "file_extension": ".py",
   "mimetype": "text/x-python",
   "name": "python",
   "nbconvert_exporter": "python",
   "pygments_lexer": "ipython3",
   "version": "3.10.4"
  },
  "orig_nbformat": 4,
  "vscode": {
   "interpreter": {
    "hash": "369f2c481f4da34e4445cda3fffd2e751bd1c4d706f27375911949ba6bb62e1c"
   }
  }
 },
 "nbformat": 4,
 "nbformat_minor": 2
}
